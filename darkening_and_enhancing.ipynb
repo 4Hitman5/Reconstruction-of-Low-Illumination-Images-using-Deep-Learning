{
  "cells": [
    {
      "cell_type": "code",
      "execution_count": 1,
      "metadata": {
        "id": "947de470"
      },
      "outputs": [],
      "source": [
        "# Importing all the necessary modules\n",
        "\n",
        "import os\n",
        "import cv2\n",
        "import numpy as np\n",
        "from PIL import Image, ImageEnhance, ImageFilter\n",
        "import time\n",
        "import matplotlib.pyplot as plt\n",
        "import math\n",
        "import datetime\n",
        "import tensorflow as tf\n",
        "from tensorflow.keras.layers import Input, Dense, Conv2D, MaxPooling2D, Dropout, UpSampling2D, BatchNormalization\n",
        "from tensorflow.keras.models import Model\n",
        "import imutils\n",
        "# from guidedfilter import guided_filter"
      ],
      "id": "947de470"
    },
    {
      "cell_type": "code",
      "execution_count": 2,
      "metadata": {
        "id": "082c8e72"
      },
      "outputs": [],
      "source": [
        "# Paths to various folders and files\n",
        "\n",
        "path = '/Users/rohitramesh4547gmail.com/Desktop/IITG/Semester-7/BTP/Good_Illumination_Images'\n",
        "store_path = '/Users/rohitramesh4547gmail.com/Desktop/IITG/Semester-7/BTP/Darkened_Images_0.2'\n",
        "fold_path = '/Users/rohitramesh4547gmail.com/Desktop/IITG/Semester-7/BTP'\n",
        "enhanced_path = '/Users/rohitramesh4547gmail.com/Desktop/IITG/Semester-7/BTP/Enhanced_Images_Histogram_Equalization'\n",
        "test_path = fold_path + '/test_dark.jpeg'\n",
        "path = '/content/drive/MyDrive/Illumination_Enhancement_BTP/Good_Illumination_Images'\n",
        "store_path_1 = '/content/drive/MyDrive/Illumination_Enhancement_BTP/Darkened_Images_0.1'\n",
        "store_path_2 = '/content/drive/MyDrive/Illumination_Enhancement_BTP/Darkened_Images_0.2'\n",
        "store_path_3 = '/content/drive/MyDrive/Illumination_Enhancement_BTP/Darkened_Images_0.3'\n",
        "rain_path = '/content/drive/MyDrive/Illumination_Enhancement_BTP/Rain_Images'\n",
        "snow_path = '/content/drive/MyDrive/Illumination_Enhancement_BTP/Snow_Images'"
      ],
      "id": "082c8e72"
    },
    {
      "cell_type": "code",
      "execution_count": 3,
      "metadata": {
        "colab": {
          "base_uri": "https://localhost:8080/"
        },
        "id": "GZhk1fu5a8iS",
        "outputId": "5d9c2e37-a5fe-424d-f357-7707b76da602"
      },
      "outputs": [
        {
          "output_type": "stream",
          "name": "stdout",
          "text": [
            "Mounted at /content/drive\n"
          ]
        }
      ],
      "source": [
        "# For Google Colab Only!\n",
        "\n",
        "from google.colab import drive\n",
        "drive.mount('/content/drive')"
      ],
      "id": "GZhk1fu5a8iS"
    },
    {
      "cell_type": "code",
      "execution_count": 4,
      "metadata": {
        "id": "d368e3cb"
      },
      "outputs": [],
      "source": [
        "# Loading Image for testing and converting it to gray-scale for the Medium Article Methods\n",
        "test_image = cv2.imread(store_path_1 + '/darkened_IMG_2821.jpeg')\n",
        "gray_img = cv2.cvtColor(test_image, cv2.COLOR_BGR2GRAY)\n",
        "original_image = cv2.imread(path + '/IMG_2821.jpeg')"
      ],
      "id": "d368e3cb"
    },
    {
      "cell_type": "code",
      "execution_count": null,
      "metadata": {
        "id": "58a107e5"
      },
      "outputs": [],
      "source": [
        "# Saved in Darkened_Images_0.1\n",
        "\n",
        "for file_name in os.listdir(path):\n",
        "    try:\n",
        "        img = Image.open(path + '/' + file_name)\n",
        "        enhancer = ImageEnhance.Brightness(img)\n",
        "\n",
        "        factor = 0.1\n",
        "        im_output = enhancer.enhance(factor)\n",
        "        im_output.save(store_path_1 + '/darkened_' + file_name)\n",
        "    except Exception as e:\n",
        "        print(e)"
      ],
      "id": "58a107e5"
    },
    {
      "cell_type": "code",
      "execution_count": null,
      "metadata": {
        "id": "NeJ2j_FSi4Xk"
      },
      "outputs": [],
      "source": [
        "# Function defined to Calculate Mean Squared Error \n",
        "\n",
        "def mse(result, truth):\n",
        "    sum_of_squares = 0\n",
        "    for i in range(truth.shape[0]):\n",
        "        for j in range(truth.shape[1]):\n",
        "            for k in range(truth.shape[2]):\n",
        "                sum_of_squares += pow(truth[i][j][k] - result[i][j][k], 2)\n",
        "    return (sum_of_squares / (truth.shape[0] * truth.shape[1] * truth.shape[2]))"
      ],
      "id": "NeJ2j_FSi4Xk"
    },
    {
      "cell_type": "code",
      "execution_count": null,
      "metadata": {
        "id": "6528e698"
      },
      "outputs": [],
      "source": [
        "def get_illumination_channel(I, w):\n",
        "    M, N, _ = I.shape\n",
        "    padded = np.pad(I, ((int(w/2), int(w/2)), (int(w/2), int(w/2)), (0, 0)), 'edge')\n",
        "    darkch = np.zeros((M, N))\n",
        "    brightch = np.zeros((M, N))\n",
        "    for i, j in np.ndindex(darkch.shape):\n",
        "        darkch[i, j] = np.min(padded[i:i + w, j:j + w, :]) # dark channel\n",
        "        brightch[i, j] = np.max(padded[i:i + w, j:j + w, :]) # bright channel\n",
        "    return darkch, brightch"
      ],
      "id": "6528e698"
    },
    {
      "cell_type": "code",
      "execution_count": null,
      "metadata": {
        "id": "3618b3b9"
      },
      "outputs": [],
      "source": [
        "darkch, brightch = get_illumination_channel(test_image, 5)\n",
        "# darkch = Image.fromarray(darkch)\n",
        "# brightch = Image.fromarray(brightch)\n",
        "# brightch.show()"
      ],
      "id": "3618b3b9"
    },
    {
      "cell_type": "code",
      "execution_count": null,
      "metadata": {
        "id": "3c468896"
      },
      "outputs": [],
      "source": [
        "def get_atmosphere(I, brightch, p=0.1):\n",
        "    M, N = brightch.shape\n",
        "    flatI = I.reshape(M*N, 3) # reshaping image array\n",
        "    flatbright = brightch.ravel() #flattening image array\n",
        "    searchidx = (-flatbright).argsort()[:int(M*N*p)] # sorting and slicing\n",
        "    A = np.mean(flatI.take(searchidx, axis=0), dtype=np.float64, axis=0)\n",
        "    return A"
      ],
      "id": "3c468896"
    },
    {
      "cell_type": "code",
      "execution_count": null,
      "metadata": {
        "id": "344c2b36"
      },
      "outputs": [],
      "source": [
        "A = get_atmosphere(test_image, brightch)"
      ],
      "id": "344c2b36"
    },
    {
      "cell_type": "code",
      "execution_count": null,
      "metadata": {
        "id": "fcf50720"
      },
      "outputs": [],
      "source": [
        "def get_initial_transmission(A, brightch):\n",
        "    A_c = np.max(A)\n",
        "    init_t = (brightch-A_c)/(1.-A_c) # finding initial transmission map\n",
        "    return (init_t - np.min(init_t))/(np.max(init_t) - np.min(init_t)) # normalized initial transmission map"
      ],
      "id": "fcf50720"
    },
    {
      "cell_type": "code",
      "execution_count": null,
      "metadata": {
        "id": "7c15ad20"
      },
      "outputs": [],
      "source": [
        "init_map = get_initial_transmission(A, brightch)"
      ],
      "id": "7c15ad20"
    },
    {
      "cell_type": "code",
      "execution_count": null,
      "metadata": {
        "id": "23b7f3ea"
      },
      "outputs": [],
      "source": [
        "def get_corrected_transmission(I, A, darkch, brightch, init_t, alpha, omega, w):\n",
        "    im = np.empty(I.shape, I.dtype);\n",
        "    for ind in range(0, 3):\n",
        "        im[:, :, ind] = I[:, :, ind] / A[ind] #divide pixel values by atmospheric light\n",
        "    dark_c, _ = get_illumination_channel(im, w) # dark channel transmission map\n",
        "    dark_t = 1 - omega*dark_c # corrected dark transmission map\n",
        "    corrected_t = init_t # initializing corrected transmission map with initial transmission map\n",
        "    diffch = brightch - darkch # difference between transmission maps\n",
        "    for i in range(diffch.shape[0]):\n",
        "        for j in range(diffch.shape[1]):\n",
        "            if(diffch[i, j] < alpha):\n",
        "                corrected_t[i, j] = dark_t[i, j] * init_t[i, j]\n",
        "    return np.abs(corrected_t)"
      ],
      "id": "23b7f3ea"
    },
    {
      "cell_type": "code",
      "execution_count": null,
      "metadata": {
        "id": "4810e69d"
      },
      "outputs": [],
      "source": [
        "corrected_map = get_corrected_transmission(test_image, A, darkch, brightch, init_map, 0.4, 0.75, 5)\n",
        "# corrected_map = Image.fromarray(corrected_map)\n",
        "# corrected_map.show()"
      ],
      "id": "4810e69d"
    },
    {
      "cell_type": "code",
      "execution_count": null,
      "metadata": {
        "id": "f3e722d8"
      },
      "outputs": [],
      "source": [
        "def get_final_image(I, A, refined_t, tmin):\n",
        "    refined_t_broadcasted = np.broadcast_to(refined_t[:, :, None], (refined_t.shape[0], refined_t.shape[1], 3)) # duplicating the channel of 2D refined map to 3 channels\n",
        "    J = (I-A) / (np.where(refined_t_broadcasted < tmin, tmin, refined_t_broadcasted)) + A # finding result \n",
        "\n",
        "    return (J - np.min(J))/(np.max(J) - np.min(J)) # normalized image"
      ],
      "id": "f3e722d8"
    },
    {
      "cell_type": "code",
      "execution_count": null,
      "metadata": {
        "id": "ef7137c3"
      },
      "outputs": [],
      "source": [
        "final = get_final_image(test_image, A, corrected_map, 0.1)\n",
        "final = (final*255).astype(np.uint8)\n",
        "# final_img = Image.fromarray(final)\n",
        "# final_img.show()"
      ],
      "id": "ef7137c3"
    },
    {
      "cell_type": "code",
      "execution_count": null,
      "metadata": {
        "id": "60791309"
      },
      "outputs": [],
      "source": [
        "def reduce_init_t(init_t):\n",
        "    init_t = (init_t*255).astype(np.uint8) \n",
        "    xp = [0, 32, 255]\n",
        "    fp = [0, 32, 48]\n",
        "    x = np.arange(256) # creating array [0,...,255]\n",
        "    table = np.interp(x, xp, fp).astype('uint8') # interpreting fp according to xp in range of x\n",
        "    init_t = cv2.LUT(init_t, table) # lookup table\n",
        "    init_t = init_t.astype(np.float64)/255 # normalizing the transmission map\n",
        "    return init_t"
      ],
      "id": "60791309"
    },
    {
      "cell_type": "code",
      "execution_count": null,
      "metadata": {
        "id": "81ed77d5"
      },
      "outputs": [],
      "source": [
        "def dehaze(im, tmin=0.1, w=5, alpha=0.4, omega=0.75, p=0.1, eps=1e-3, reduce=False):\n",
        "    I = np.asarray(im, dtype=np.float64) # Convert the input to a float array.\n",
        "    I = I[:, :, :3] / 255\n",
        "    m, n, _ = I.shape\n",
        "    Idark, Ibright = get_illumination_channel(I, w)\n",
        "#     print(\"Obtained bright and dark channel priors\")\n",
        "#     Image.fromarray(Idark).save(fold_path + '/dark_channel_prior.png')\n",
        "#     Image.fromarray(Ibright).save(fold_path + '/bright_channel_prior.jpg')\n",
        "    A = get_atmosphere(I, Ibright, p)\n",
        "#     print(\"Obtained atmosphere lighting\")\n",
        "#     Image.fromarray(A).save(fold_path + '/atmosphere.jpg')\n",
        "    init_t = get_initial_transmission(A, Ibright) \n",
        "#     print(\"Obtained initial transmission map\")\n",
        "#     Image.fromarray(init_t).save(fold_path + '/init_transmission.jpg')\n",
        "    if reduce:\n",
        "        init_t = reduce_init_t(init_t)\n",
        "#         print(\"Obtained reduced transmission map\")\n",
        "#         Image.fromarray(init_t).save(fold_path + '/reduced_transmission.jpg')\n",
        "    corrected_t = get_corrected_transmission(I, A, Idark, Ibright, init_t, alpha, omega, w)\n",
        "#     print(\"Obtained corrected transmission map\")\n",
        "#     Image.fromarray(corrected_t).save(fold_path + '/corrected_transmission.jpg')\n",
        "\n",
        "    normI = (I - I.min()) / (I.max() - I.min())\n",
        "    refined_t = guided_filter(normI, corrected_t, w, eps) # applying guided filter\n",
        "#     print(\"Obtained image after applying guided filter\")\n",
        "#     Image.fromarray(refined_t).save(fold_path + '/guided_filter.jpg')\n",
        "    \n",
        "    J_refined = get_final_image(I, A, refined_t, tmin)\n",
        "#     print(\"Obtained final image before enhancement\")\n",
        "#     Image.fromarray(J_refined).save(fold_path + '/J_refined_before_enhancement.jpg')\n",
        "    \n",
        "    enhanced = (J_refined * 255).astype(np.uint8)\n",
        "    f_enhanced = cv2.detailEnhance(enhanced, sigma_s=10, sigma_r=0.15)\n",
        "    f_enhanced = cv2.edgePreservingFilter(f_enhanced, flags=1, sigma_s=64, sigma_r=0.2)\n",
        "    return f_enhanced"
      ],
      "id": "81ed77d5"
    },
    {
      "cell_type": "code",
      "execution_count": null,
      "metadata": {
        "id": "4abd5e1c"
      },
      "outputs": [],
      "source": [
        "# Stack Exchange Solution (Increasing value in HSV image)\n",
        "def increase_brightness(img, value):\n",
        "    hsv = cv2.cvtColor(img, cv2.COLOR_BGR2HSV)\n",
        "    hsv[:, :, 2] += value\n",
        "    img = cv2.cvtColor(hsv, cv2.COLOR_HSV2BGR)\n",
        "    return img\n",
        "\n",
        "stack_bright = increase_brightness(test_image, 50)\n",
        "# stack_bright = Image.fromarray(stack_bright)\n",
        "# stack_bright.show()"
      ],
      "id": "4abd5e1c"
    },
    {
      "cell_type": "code",
      "execution_count": null,
      "metadata": {
        "id": "13d3300d"
      },
      "outputs": [],
      "source": [
        "# OpenCV method using (alpha * pixel + beta) ^ gamma method\n",
        "def increase_contrast_brightness(img, alpha, beta, gamma):\n",
        "    new_image = np.zeros(img.shape, img.dtype)\n",
        "    for y in range(img.shape[0]):\n",
        "        for x in range(img.shape[1]):\n",
        "            for c in range(img.shape[2]):\n",
        "                new_image[y, x, c] = np.clip(alpha * img[y, x, c] + beta, 0, 255)\n",
        "    lookUpTable = np.empty((1, 256), np.uint8)\n",
        "    for i in range(256):\n",
        "        lookUpTable[0, i] = np.clip(pow(i / 255.0, gamma) * 255.0, 0, 255)\n",
        "    res = cv2.LUT(new_image, lookUpTable)\n",
        "    return new_image, res\n",
        "\n",
        "image_linear_transform, gamma_corrected = increase_contrast_brightness(test_image, 2.2, 50, 0.4)\n",
        "# gamma_corrected = Image.fromarray(gamma_corrected)\n",
        "# gamma_corrected.show()"
      ],
      "id": "13d3300d"
    },
    {
      "cell_type": "code",
      "execution_count": null,
      "metadata": {
        "colab": {
          "base_uri": "https://localhost:8080/",
          "height": 573
        },
        "id": "cc116358",
        "outputId": "51205db6-2b57-4983-f7d6-d0a723ff4d1f"
      },
      "outputs": [
        {
          "data": {
            "image/png": "[encoded data removed]",
            "text/plain": [
              "<Figure size 432x288 with 1 Axes>"
            ]
          },
          "metadata": {},
          "output_type": "display_data"
        },
        {
          "data": {
            "image/png": "[encoded data removed]",
            "text/plain": [
              "<Figure size 432x288 with 1 Axes>"
            ]
          },
          "metadata": {},
          "output_type": "display_data"
        }
      ],
      "source": [
        "# Using Histogram Equalization Method\n",
        "hist = cv2.calcHist(gray_img, [0], None, [256], [0, 256])\n",
        "plt.subplot(121)\n",
        "plt.title(\"Image1\")\n",
        "plt.xlabel('bins')\n",
        "plt.ylabel(\"No of pixels\")\n",
        "plt.plot(hist)\n",
        "plt.show()\n",
        "gray_img_eqhist = cv2.equalizeHist(gray_img)\n",
        "hist = cv2.calcHist(gray_img_eqhist, [0], None, [256], [0, 256])\n",
        "plt.subplot(121)\n",
        "plt.title(\"Image2\")\n",
        "plt.xlabel('bins')\n",
        "plt.ylabel(\"No of pixels\")\n",
        "plt.plot(hist)\n",
        "plt.show()\n",
        "# gray_img_eqhist = Image.fromarray(gray_img_eqhist)\n",
        "# gray_img_eqhist.show()"
      ],
      "id": "cc116358"
    },
    {
      "cell_type": "code",
      "execution_count": null,
      "metadata": {
        "id": "6b2ed6b6"
      },
      "outputs": [],
      "source": [
        "# Using CLAHE (Contrast Limited Adaptive Histogram Equalization)\n",
        "gray_img_eqhist = cv2.equalizeHist(gray_img)\n",
        "clahe = cv2.createCLAHE(clipLimit = 40)\n",
        "gray_img_clahe = clahe.apply(gray_img_eqhist)\n",
        "# gray_img_clahe = Image.fromarray(gray_img_clahe)\n",
        "# gray_img_clahe.show()"
      ],
      "id": "6b2ed6b6"
    },
    {
      "cell_type": "code",
      "execution_count": null,
      "metadata": {
        "id": "0892859e"
      },
      "outputs": [],
      "source": [
        "# OTSU Binarization \n",
        "ret, thresh = cv2.threshold(gray_img, 0, 255, cv2.THRESH_BINARY + cv2.THRESH_OTSU)\n",
        "# thresh = Image.fromarray(thresh)\n",
        "# thresh.show()\n",
        "\n",
        "# Adaptive Thresholding\n",
        "thresh1 = cv2.adaptiveThreshold(gray_img, 255, cv2.ADAPTIVE_THRESH_MEAN_C, cv2.THRESH_BINARY, 31, 3)\n",
        "thresh2 = cv2.adaptiveThreshold(gray_img, 255, cv2.ADAPTIVE_THRESH_GAUSSIAN_C, cv2.THRESH_BINARY, 13, 5)\n",
        "final = np.concatenate((thresh1, thresh2), axis = 1)\n",
        "# final = Image.fromarray(final)\n",
        "# final.show()"
      ],
      "id": "0892859e"
    },
    {
      "cell_type": "code",
      "execution_count": null,
      "metadata": {
        "id": "09c1f9e5",
        "outputId": "45579a16-da30-45e1-a820-cc37a1fc5a19"
      },
      "outputs": [
        {
          "name": "stdout",
          "output_type": "stream",
          "text": [
            "(3024, 4032, 3)\n",
            "(3024, 4032, 3)\n",
            "Simple Pixel Enhancement MSE =  5915.716875746891\n",
            "(3024, 4032, 3)\n",
            "Linear Pixel Transformation Method MSE =  2008.0117123527652\n",
            "(3024, 4032, 3)\n",
            "Linear Pixel Transformation Method with Gamma Correction MSE =  4416.644503200586\n",
            "(3024, 4032, 3)\n",
            "Histogram Equalization Method =  314.0960210730383\n",
            "(3024, 4032, 3)\n",
            "CLAHE Method MSE =  2928.990424433019\n",
            "(3024, 4032, 3)\n",
            "Adaptive Thresholding Method - MEAN MSE =  13749.713118246269\n",
            "(3024, 4032, 3)\n",
            "Adaptive Thresholding Method - GAUSSIAN MSE =  18437.7777336806\n",
            "(3024, 4032, 3)\n",
            "OTSU Binarization Method  MSE =  6308.470293401247\n"
          ]
        }
      ],
      "source": [
        "# Test-Image\n",
        "original_image = np.asarray(original_image, dtype=np.float64)\n",
        "print(original_image.shape)\n",
        "\n",
        "# Simple Pixel Enhancement\n",
        "print(stack_bright.shape)\n",
        "stack_bright = np.asarray(stack_bright, dtype=np.float64)\n",
        "print(\"Simple Pixel Enhancement MSE = \", mse(stack_bright, original_image))\n",
        "\n",
        "# Linear Pixel Transformation Method\n",
        "print(image_linear_transform.shape)\n",
        "image_linear_transform = np.asarray(image_linear_transform, dtype=np.float64)\n",
        "print(\"Linear Pixel Transformation Method MSE = \", mse(image_linear_transform, original_image))\n",
        "\n",
        "# Linear Pixel Transformation Method with Gamma Correction\n",
        "print(gamma_corrected.shape)\n",
        "gamma_corrected = np.asarray(gamma_corrected, dtype=np.float64)\n",
        "print(\"Linear Pixel Transformation Method with Gamma Correction MSE = \", mse(gamma_corrected, original_image))\n",
        "\n",
        "# Histogram Equalization Method\n",
        "gray_img_eqhist = cv2.cvtColor(gray_img_eqhist, cv2.COLOR_GRAY2BGR)\n",
        "print(gray_img_eqhist.shape)\n",
        "gray_img_eqhist = np.asarray(gray_img_eqhist, dtype=np.float64)\n",
        "print(\"Histogram Equalization Method = \", mse(gray_img_eqhist, original_image))\n",
        "\n",
        "# CLAHE Method\n",
        "gray_img_clahe = cv2.cvtColor(gray_img_clahe, cv2.COLOR_GRAY2BGR)\n",
        "print(gray_img_clahe.shape)\n",
        "gray_img_clahe = np.asarray(gray_img_clahe, dtype=np.float64)\n",
        "print(\"CLAHE Method MSE = \", mse(gray_img_clahe, original_image))\n",
        "\n",
        "# Adaptive Thresholding Method - MEAN\n",
        "thresh1 = cv2.cvtColor(thresh1, cv2.COLOR_GRAY2BGR)\n",
        "print(thresh1.shape)\n",
        "thresh1 = np.asarray(thresh1, dtype=np.float64)\n",
        "print(\"Adaptive Thresholding Method - MEAN MSE = \", mse(thresh1, original_image))\n",
        "\n",
        "# Adaptive Thresholding Method - GAUSSIAN\n",
        "thresh2 = cv2.cvtColor(thresh2, cv2.COLOR_GRAY2BGR)\n",
        "print(thresh2.shape)\n",
        "thresh2 = np.asarray(thresh2, dtype=np.float64)\n",
        "print(\"Adaptive Thresholding Method - GAUSSIAN MSE = \", mse(thresh2, original_image))\n",
        "\n",
        "# OTSU Binarization Method \n",
        "thresh = cv2.cvtColor(thresh, cv2.COLOR_GRAY2BGR)\n",
        "print(thresh.shape)\n",
        "thresh = np.asarray(thresh, dtype=np.float64)\n",
        "print(\"OTSU Binarization Method  MSE = \", mse(thresh, original_image))"
      ],
      "id": "09c1f9e5"
    },
    {
      "cell_type": "code",
      "execution_count": null,
      "metadata": {
        "id": "d2adfd3a",
        "outputId": "b0f8850e-3177-447c-b08b-24c8cf90397a"
      },
      "outputs": [
        {
          "name": "stdout",
          "output_type": "stream",
          "text": [
            "0.006666898727416992\n",
            "(3024, 4032, 3)\n",
            "(3024, 4032, 3)\n",
            "image - 1 is enhanced and the mse for the image was 494.2746377470098\n",
            "0.0072672367095947266\n",
            "(3024, 4032, 3)\n",
            "(3024, 4032, 3)\n",
            "image - 2 is enhanced and the mse for the image was 656.4755195866927\n",
            "0.0071218013763427734\n",
            "(3024, 4032, 3)\n",
            "(3024, 4032, 3)\n",
            "image - 3 is enhanced and the mse for the image was 937.2480539283615\n",
            "0.007174015045166016\n",
            "(3024, 4032, 3)\n",
            "(3024, 4032, 3)\n",
            "image - 4 is enhanced and the mse for the image was 314.0960210730383\n",
            "0.007061004638671875\n",
            "(3024, 4032, 3)\n",
            "(3024, 4032, 3)\n",
            "image - 5 is enhanced and the mse for the image was 764.2819668183631\n",
            "0.007261991500854492\n",
            "(3024, 4032, 3)\n",
            "(3024, 4032, 3)\n",
            "image - 6 is enhanced and the mse for the image was 1036.491627331874\n",
            "0.007086277008056641\n",
            "(3024, 4032, 3)\n",
            "(3024, 4032, 3)\n",
            "image - 7 is enhanced and the mse for the image was 577.8433594952899\n",
            "0.007029056549072266\n",
            "(3024, 4032, 3)\n",
            "(3024, 4032, 3)\n",
            "image - 8 is enhanced and the mse for the image was 417.4194312562988\n",
            "0.0073888301849365234\n",
            "(3024, 4032, 3)\n",
            "(3024, 4032, 3)\n",
            "image - 9 is enhanced and the mse for the image was 1616.4671224778492\n",
            "0.007016181945800781\n",
            "(3024, 4032, 3)\n",
            "(3024, 4032, 3)\n",
            "image - 10 is enhanced and the mse for the image was 390.00074303609046\n",
            "Mean MSE =  720.4598482750869\n"
          ]
        }
      ],
      "source": [
        "# Using Histogram Equalization on Several Images for Testing\n",
        "\n",
        "count = 0\n",
        "total_mse = 0\n",
        "for file_name in os.listdir(store_path):\n",
        "    try:\n",
        "        im_to_enhance = cv2.imread(store_path + '/' + file_name)\n",
        "        im_original = Image.open(path + '/' + file_name[9:])\n",
        "        original = np.asarray(im_original, dtype=np.float64)\n",
        "        gray_img = cv2.cvtColor(im_to_enhance, cv2.COLOR_BGR2GRAY)\n",
        "        start_time = time.time()\n",
        "        result = cv2.equalizeHist(gray_img)\n",
        "        end_time = time.time()\n",
        "        print(end_time - start_time)\n",
        "        result = cv2.cvtColor(result, cv2.COLOR_GRAY2BGR)\n",
        "        result = np.asarray(result, dtype=np.float64)\n",
        "        print(result.shape)\n",
        "        print(original.shape)\n",
        "        current_mse = mse(result, original)\n",
        "        count += 1\n",
        "        print(f\"image - {count} is enhanced and the mse for the image was {current_mse}\")\n",
        "        total_mse += current_mse\n",
        "        result = np.asarray(result, dtype=np.uint8)\n",
        "        im_output = Image.fromarray(result)\n",
        "        im_output.save(enhanced_path + '/enhanced_eq_hist' + file_name[9:])\n",
        "    except Exception as e:\n",
        "        print(e)\n",
        "    if count >= 10:\n",
        "        break\n",
        "print(\"Mean MSE = \", total_mse / 10)"
      ],
      "id": "d2adfd3a"
    },
    {
      "cell_type": "code",
      "execution_count": null,
      "metadata": {
        "id": "01cdeebe"
      },
      "outputs": [],
      "source": [
        "# Default parameters for Tan-Triggs\n",
        "rows = gray_img.shape[0]\n",
        "cols = gray_img.shape[1]\n",
        "\n",
        "# Gamma Correction \n",
        "gamma = 0.2\n",
        "\n",
        "# Difference of Gaussian (DoG) Filterings\n",
        "sigma_0 = 1\n",
        "sigma_1 = 2\n",
        "\n",
        "# Contrast Equalization\n",
        "alpha = 0.1\n",
        "tao = 10"
      ],
      "id": "01cdeebe"
    },
    {
      "cell_type": "code",
      "execution_count": null,
      "metadata": {
        "id": "e7a5365f"
      },
      "outputs": [],
      "source": [
        "# Tan - Triggs Method\n",
        "\n",
        "gamma_corrected = gray_img ** gamma\n",
        "kernel_0 = ImageFilter.GaussianBlur(radius=sigma_0)\n",
        "kernel_1 = ImageFilter.GaussianBlur(radius=sigma_1)\n",
        "# kernel_0 = np.ones((3 * sigma_0, 3 * sigma_0))\n",
        "# kernel_1 = np.ones((3 * sigma_1 + 1, 3 * sigma_1 + 1))\n",
        "\n",
        "image_0 = Image.fromarray(gamma_corrected).convert('L').filter(kernel_0)\n",
        "image_1 = Image.fromarray(gamma_corrected).convert('L').filter(kernel_1)\n",
        "\n",
        "image_0 = np.array(image_0)\n",
        "image_1 = np.array(image_1)\n",
        "\n",
        "image = image_0 - image_1\n",
        "\n",
        "image = image / ((np.mean((abs(image.flatten())) ** alpha)) ** (1 / alpha))\n",
        "image = image / (np.mean([np.min(tao * np.ones((1, rows * cols))) ** alpha, np.min(abs(gray_img.flatten().reshape((1, rows * cols)))) ** alpha]) ** (1 / alpha))\n",
        "image = tao * np.tanh(image / tao)\n",
        "\n",
        "max_image = np.max(np.max(image))\n",
        "min_image = np.min(np.min(image))\n",
        "\n",
        "for i in range(image.shape[0]):\n",
        "    for j in range(image.shape[1]):\n",
        "        image[i][j] = math.ceil(((image[i][j] - min_image) / (max_image - min_image)) * 255)\n",
        "image = np.asarray(image, dtype=np.uint8)\n",
        "image = cv2.cvtColor(image, cv2.COLOR_GRAY2BGR)\n",
        "display_image = Image.fromarray(image).convert('RGB')\n",
        "display_image.save('/content/tan_triggs_IMG_2838.jpeg')"
      ],
      "id": "e7a5365f"
    },
    {
      "cell_type": "code",
      "execution_count": null,
      "metadata": {
        "id": "d3lR-nobzyQB"
      },
      "outputs": [],
      "source": [
        "# Initializing Image Size for the Model and data arrays for storing the images\n",
        "\n",
        "im_size = 256\n",
        "images_darkened = []\n",
        "images_normal = []"
      ],
      "id": "d3lR-nobzyQB"
    },
    {
      "cell_type": "code",
      "execution_count": null,
      "metadata": {
        "colab": {
          "base_uri": "https://localhost:8080/"
        },
        "id": "IaGQPXYwEA3Y",
        "outputId": "598984a0-fb78-43d2-e310-818de2f12a16"
      },
      "outputs": [
        {
          "output_type": "stream",
          "name": "stdout",
          "text": [
            "219\n",
            "219\n",
            "Done with 0.2 darkened images.\n",
            "\n",
            "438\n",
            "438\n",
            "Done with 0.1 darkened images.\n",
            "\n",
            "657\n",
            "657\n",
            "Done with 0.3 darkened images.\n",
            "\n"
          ]
        }
      ],
      "source": [
        "# Obtaining the entire dataset for training and testing purposes\n",
        "\n",
        "for file in os.listdir(path):\n",
        "  if file.endswith('jpeg'):\n",
        "    img_light = cv2.imread(os.path.join(path, file))\n",
        "    img_light = cv2.cvtColor(img_light, cv2.COLOR_BGR2HSV)\n",
        "    img_light = img_light[:, :, 2]\n",
        "    img_light = cv2.resize(img_light, (im_size, im_size))\n",
        "    images_normal.append(img_light)\n",
        "\n",
        "    img_dark_2 = cv2.imread(os.path.join(store_path_2, 'darkened_' + file))\n",
        "    img_dark_2 = cv2.rotate(img_dark_2, rotateCode=cv2.ROTATE_90_CLOCKWISE)\n",
        "    img_dark_2 = cv2.cvtColor(img_dark_2, cv2.COLOR_BGR2HSV)\n",
        "    img_dark_2 = img_dark_2[:, :, 2]\n",
        "    img_dark_2 = cv2.resize(img_dark_2, (im_size, im_size))\n",
        "    images_darkened.append(img_dark_2)\n",
        "\n",
        "print(len(images_normal))\n",
        "print(len(images_darkened)) \n",
        "print(\"Done with 0.2 darkened images.\\n\")  \n",
        "\n",
        "for file in os.listdir(path):\n",
        "  if file.endswith('jpeg'):\n",
        "    img_light = cv2.imread(os.path.join(path, file))\n",
        "    img_light = cv2.cvtColor(img_light, cv2.COLOR_BGR2HSV)\n",
        "    img_light = img_light[:, :, 2]\n",
        "    img_light = cv2.resize(img_light, (im_size, im_size))\n",
        "    images_normal.append(img_light)\n",
        "\n",
        "    img_dark_1 = cv2.imread(os.path.join(store_path_1, 'darkened_' + file))\n",
        "    img_dark_1 = cv2.rotate(img_dark_1, rotateCode=cv2.ROTATE_90_CLOCKWISE)\n",
        "    img_dark_1 = cv2.cvtColor(img_dark_1, cv2.COLOR_BGR2HSV)\n",
        "    img_dark_1 = img_dark_1[:, :, 2]\n",
        "    img_dark_1 = cv2.resize(img_dark_1, (im_size, im_size))\n",
        "    images_darkened.append(img_dark_1)\n",
        "\n",
        "print(len(images_normal))\n",
        "print(len(images_darkened))\n",
        "print(\"Done with 0.1 darkened images.\\n\") \n",
        "\n",
        "for file in os.listdir(path):\n",
        "  if file.endswith('jpeg'):\n",
        "    img_light = cv2.imread(os.path.join(path, file))\n",
        "    img_light = cv2.cvtColor(img_light, cv2.COLOR_BGR2HSV)\n",
        "    img_light = img_light[:, :, 2]\n",
        "    img_light = cv2.resize(img_light, (im_size, im_size))\n",
        "    images_normal.append(img_light)\n",
        "\n",
        "    img_dark_3 = cv2.imread(os.path.join(store_path_3, 'darkened_' + file))\n",
        "    img_dark_3 = cv2.rotate(img_dark_3, rotateCode=cv2.ROTATE_90_CLOCKWISE)\n",
        "    img_dark_3 = cv2.cvtColor(img_dark_3, cv2.COLOR_BGR2HSV)\n",
        "    img_dark_3 = img_dark_3[:, :, 2]\n",
        "    img_dark_3 = cv2.resize(img_dark_3, (im_size, im_size))\n",
        "    images_darkened.append(img_dark_3)\n",
        "\n",
        "print(len(images_normal))\n",
        "print(len(images_darkened))\n",
        "print(\"Done with 0.3 darkened images.\\n\") "
      ],
      "id": "IaGQPXYwEA3Y"
    },
    {
      "cell_type": "code",
      "execution_count": null,
      "metadata": {
        "id": "0Klq4shwfsZa"
      },
      "outputs": [],
      "source": [
        "# Normalization and Storage of Data\n",
        "\n",
        "images_darkened = np.array(images_darkened)\n",
        "images_darkened = images_darkened.reshape(-1, im_size, im_size, 1)\n",
        "images_darkened = images_darkened / 255.0\n",
        "images_normal = np.array(images_normal)\n",
        "images_normal = images_normal.reshape(-1, im_size, im_size, 1)\n",
        "images_normal = images_normal / 255.0\n",
        "\n",
        "x_train = images_darkened\n",
        "y_train = images_normal"
      ],
      "id": "0Klq4shwfsZa"
    },
    {
      "cell_type": "code",
      "execution_count": null,
      "metadata": {
        "id": "YwaNkjtrfun1"
      },
      "outputs": [],
      "source": [
        "# Tensorboard Callbacks to monitor the progress of training\n",
        "\n",
        "log_dir_1 = \"logs/fit/\" + datetime.datetime.now().strftime(\"%Y%m%d-%H%M%S\")\n",
        "%reload_ext tensorboard\n",
        "log_folder = 'log_dir_1'\n",
        "TensorBoard_callbacks = [tf.keras.callbacks.TensorBoard(log_dir=log_folder,\n",
        "                         histogram_freq=1,\n",
        "                         write_graph=True,\n",
        "                         write_images=True,\n",
        "                         update_freq='epoch',\n",
        "                         profile_batch=2,\n",
        "                         embeddings_freq=1)]"
      ],
      "id": "YwaNkjtrfun1"
    },
    {
      "cell_type": "code",
      "execution_count": null,
      "metadata": {
        "colab": {
          "base_uri": "https://localhost:8080/"
        },
        "id": "eGCLHZi4MMpZ",
        "outputId": "ff44024e-cbda-411f-e2db-791ab32a2ad3"
      },
      "outputs": [
        {
          "output_type": "stream",
          "name": "stdout",
          "text": [
            "Model: \"TF_image_enhancer_256_size_value_channel\"\n",
            "_________________________________________________________________\n",
            " Layer (type)                Output Shape              Param #   \n",
            "=================================================================\n",
            " input_1 (InputLayer)        [(None, 256, 256, 1)]     0         \n",
            "                                                                 \n",
            " conv2d (Conv2D)             (None, 256, 256, 64)      640       \n",
            "                                                                 \n",
            " conv2d_1 (Conv2D)           (None, 256, 256, 128)     73856     \n",
            "                                                                 \n",
            " batch_normalization (BatchN  (None, 256, 256, 128)    512       \n",
            " ormalization)                                                   \n",
            "                                                                 \n",
            " max_pooling2d (MaxPooling2D  (None, 128, 128, 128)    0         \n",
            " )                                                               \n",
            "                                                                 \n",
            " dropout (Dropout)           (None, 128, 128, 128)     0         \n",
            "                                                                 \n",
            " conv2d_2 (Conv2D)           (None, 128, 128, 128)     147584    \n",
            "                                                                 \n",
            " conv2d_3 (Conv2D)           (None, 128, 128, 64)      73792     \n",
            "                                                                 \n",
            " batch_normalization_1 (Batc  (None, 128, 128, 64)     256       \n",
            " hNormalization)                                                 \n",
            "                                                                 \n",
            " up_sampling2d (UpSampling2D  (None, 256, 256, 64)     0         \n",
            " )                                                               \n",
            "                                                                 \n",
            " conv2d_4 (Conv2D)           (None, 256, 256, 1)       577       \n",
            "                                                                 \n",
            "=================================================================\n",
            "Total params: 297,217\n",
            "Trainable params: 296,833\n",
            "Non-trainable params: 384\n",
            "_________________________________________________________________\n"
          ]
        }
      ],
      "source": [
        "# The Auto - Encoder Model\n",
        "\n",
        "input_layer = Input(shape=(im_size, im_size, 1))\n",
        "\n",
        "# Encoder of Autoencoder\n",
        "x = Conv2D(64, (3, 3), activation='relu', padding='same')(input_layer)\n",
        "x = Conv2D(128, (3, 3), activation='relu', padding='same')(x)\n",
        "x = BatchNormalization()(x)\n",
        "\n",
        "x = MaxPooling2D((2, 2), padding='same')(x)\n",
        "\n",
        "x = Dropout(0.5)(x)\n",
        "\n",
        "# Decoder of Autoencoder\n",
        "\n",
        "x = Conv2D(128, (3, 3), activation='relu', padding='same')(x)\n",
        "x = Conv2D(64, (3, 3), activation='relu', padding='same')(x)\n",
        "x = BatchNormalization()(x)\n",
        "\n",
        "x = UpSampling2D((2, 2))(x)\n",
        "\n",
        "output_layer = Conv2D(1, (3, 3), activation='sigmoid', padding='same')(x)\n",
        "\n",
        "# Final Model\n",
        "model = Model(inputs=[input_layer], outputs=[output_layer], name='TF_image_enhancer_256_size_value_channel')\n",
        "model.summary()"
      ],
      "id": "eGCLHZi4MMpZ"
    },
    {
      "cell_type": "code",
      "execution_count": null,
      "metadata": {
        "id": "0RZcd3UppFE1"
      },
      "outputs": [],
      "source": [
        "model.compile(optimizer='adam' , loss='mean_squared_error', metrics=['mae'])"
      ],
      "id": "0RZcd3UppFE1"
    },
    {
      "cell_type": "code",
      "execution_count": null,
      "metadata": {
        "colab": {
          "base_uri": "https://localhost:8080/"
        },
        "id": "heT0A0RuSlqQ",
        "outputId": "95dffd8c-f43e-4aca-d010-e76f2a16a241"
      },
      "outputs": [
        {
          "output_type": "stream",
          "name": "stdout",
          "text": [
            "Epoch 1/10\n",
            "66/66 [==============================] - 26s 197ms/step - loss: 0.0320 - mae: 0.1331 - val_loss: 0.0699 - val_mae: 0.2167\n",
            "Epoch 2/10\n",
            "66/66 [==============================] - 9s 133ms/step - loss: 0.0183 - mae: 0.1017 - val_loss: 0.0768 - val_mae: 0.2257\n",
            "Epoch 3/10\n",
            "66/66 [==============================] - 9s 133ms/step - loss: 0.0162 - mae: 0.0958 - val_loss: 0.0872 - val_mae: 0.2413\n",
            "Epoch 4/10\n",
            "66/66 [==============================] - 9s 134ms/step - loss: 0.0146 - mae: 0.0906 - val_loss: 0.0736 - val_mae: 0.2224\n",
            "Epoch 5/10\n",
            "66/66 [==============================] - 9s 133ms/step - loss: 0.0137 - mae: 0.0877 - val_loss: 0.0825 - val_mae: 0.2378\n",
            "Epoch 6/10\n",
            "66/66 [==============================] - 9s 135ms/step - loss: 0.0136 - mae: 0.0877 - val_loss: 0.0524 - val_mae: 0.1869\n",
            "Epoch 7/10\n",
            "66/66 [==============================] - 9s 136ms/step - loss: 0.0128 - mae: 0.0851 - val_loss: 0.0367 - val_mae: 0.1573\n",
            "Epoch 8/10\n",
            "66/66 [==============================] - 9s 137ms/step - loss: 0.0120 - mae: 0.0818 - val_loss: 0.0272 - val_mae: 0.1338\n",
            "Epoch 9/10\n",
            "66/66 [==============================] - 9s 138ms/step - loss: 0.0112 - mae: 0.0790 - val_loss: 0.0218 - val_mae: 0.1216\n",
            "Epoch 10/10\n",
            "66/66 [==============================] - 9s 139ms/step - loss: 0.0106 - mae: 0.0767 - val_loss: 0.0219 - val_mae: 0.1209\n"
          ]
        }
      ],
      "source": [
        "history = model.fit(x_train, y_train, validation_split=0.2, epochs=10, batch_size=8, callbacks=TensorBoard_callbacks)"
      ],
      "id": "heT0A0RuSlqQ"
    },
    {
      "cell_type": "code",
      "execution_count": null,
      "metadata": {
        "colab": {
          "base_uri": "https://localhost:8080/",
          "height": 821
        },
        "id": "Ek1J-ts5POM3",
        "outputId": "a8ea5bd8-8d58-4f22-915e-5a6b3ce2dc38"
      },
      "outputs": [],
      "source": [
        "%tensorboard --logdir={log_folder}"
      ],
      "id": "Ek1J-ts5POM3"
    },
    {
      "cell_type": "code",
      "execution_count": null,
      "metadata": {
        "id": "FrGFDWffGzhf"
      },
      "outputs": [],
      "source": [
        "model.save('/content/TF_image_enhancer_256_size_value_channel.h5')"
      ],
      "id": "FrGFDWffGzhf"
    },
    {
      "cell_type": "code",
      "execution_count": null,
      "metadata": {
        "id": "OWBr4rxsNCmH"
      },
      "outputs": [],
      "source": [
        "model = tf.keras.models.load_model('/content/TF_image_enhancer_256_size_value_channel_10_epochs.h5', compile=True)"
      ],
      "id": "OWBr4rxsNCmH"
    },
    {
      "cell_type": "code",
      "source": [
        "test_image = cv2.imread('/content/00036_02_0.1s.jpeg')"
      ],
      "metadata": {
        "id": "3u1M2hbLJyfP"
      },
      "id": "3u1M2hbLJyfP",
      "execution_count": null,
      "outputs": []
    },
    {
      "cell_type": "code",
      "execution_count": null,
      "metadata": {
        "id": "jTlXsAcr5Ipl"
      },
      "outputs": [],
      "source": [
        "# Testing and Viewing the Results\n",
        "img = cv2.rotate(test_image, rotateCode=cv2.ROTATE_90_CLOCKWISE)\n",
        "img = cv2.cvtColor(img, cv2.COLOR_BGR2HSV)\n",
        "img = img[:, :, 2]\n",
        "img = cv2.resize(img, (im_size, im_size))\n",
        "img = img / 255.0\n",
        "img = img.reshape(-1, img.shape[0], img.shape[1], 1)\n",
        "# print(img)\n",
        "or_img = cv2.cvtColor(original_image, cv2.COLOR_BGR2HSV)\n",
        "or_img = or_img[:, :, 2]\n",
        "or_img = cv2.resize(or_img, (im_size, im_size))\n",
        "or_img = or_img / 255.0\n",
        "or_img = or_img.reshape(-1, or_img.shape[0], or_img.shape[1], 1)\n",
        "# print(or_img)"
      ],
      "id": "jTlXsAcr5Ipl"
    },
    {
      "cell_type": "code",
      "execution_count": null,
      "metadata": {
        "colab": {
          "base_uri": "https://localhost:8080/"
        },
        "id": "SIllgezf5CZj",
        "outputId": "bfaa9b69-f65c-41c3-e6c4-6402cbd42ccf"
      },
      "outputs": [
        {
          "output_type": "stream",
          "name": "stdout",
          "text": [
            "1/1 [==============================] - 0s 27ms/step - loss: 0.0186 - mae: 0.1089\n"
          ]
        },
        {
          "output_type": "execute_result",
          "data": {
            "text/plain": [
              "[0.018641404807567596, 0.10888467729091644]"
            ]
          },
          "metadata": {},
          "execution_count": 83
        }
      ],
      "source": [
        "model.evaluate(img, or_img)"
      ],
      "id": "SIllgezf5CZj"
    },
    {
      "cell_type": "code",
      "source": [
        "true_l, true_r, _ = test_image.shape"
      ],
      "metadata": {
        "id": "jfVtXTfar67s"
      },
      "id": "jfVtXTfar67s",
      "execution_count": null,
      "outputs": []
    },
    {
      "cell_type": "code",
      "execution_count": null,
      "metadata": {
        "id": "rKrhtZJdeD9m"
      },
      "outputs": [],
      "source": [
        "pred = model.predict(img)\n",
        "pred = pred * 255\n",
        "pred = np.asarray(pred, dtype=np.uint8)\n",
        "pred = pred[0].reshape((im_size, im_size))\n",
        "dup_img = test_image\n",
        "dup_img = cv2.rotate(dup_img, rotateCode=cv2.ROTATE_90_CLOCKWISE)\n",
        "dup_img = cv2.cvtColor(dup_img, cv2.COLOR_BGR2HSV)\n",
        "dup_img = cv2.resize(dup_img, (im_size, im_size))\n",
        "dup_img[:, :, 2] = pred\n",
        "dup_img = cv2.cvtColor(dup_img, cv2.COLOR_HSV2BGR)\n",
        "dup_img = cv2.resize(dup_img, (true_l, true_r))\n",
        "pred_img = Image.fromarray(dup_img)\n",
        "pred_img.save('/content/predicted_ltsid_1.jpeg')"
      ],
      "id": "rKrhtZJdeD9m"
    },
    {
      "cell_type": "code",
      "execution_count": null,
      "metadata": {
        "id": "NTUUFu2sH45n"
      },
      "outputs": [],
      "source": [
        "img = img * 255\n",
        "img = np.asarray(img, dtype=np.uint8)\n",
        "img = img.reshape((im_size, im_size))\n",
        "dup_img = test_image\n",
        "dup_img = cv2.cvtColor(dup_img, cv2.COLOR_BGR2HSV)\n",
        "dup_img = cv2.resize(dup_img, (im_size, im_size))\n",
        "dup_img[:, :, 2] = img\n",
        "dup_img = cv2.cvtColor(dup_img, cv2.COLOR_HSV2BGR)\n",
        "dup_img = cv2.resize(dup_img, (true_l, true_r))\n",
        "dark_img = Image.fromarray(dup_img)\n",
        "dark_img.save('/content/dark_ltsid_1.jpeg')"
      ],
      "id": "NTUUFu2sH45n"
    },
    {
      "cell_type": "code",
      "execution_count": null,
      "metadata": {
        "id": "bt7NvqIGHdwE"
      },
      "outputs": [],
      "source": [
        "or_img = or_img * 255\n",
        "or_img = np.asarray(or_img, dtype=np.uint8)\n",
        "or_img = or_img.reshape((im_size, im_size))\n",
        "dup_img = original_image\n",
        "dup_img = cv2.resize(dup_img, (im_size, im_size))\n",
        "dup_img[:, :, 2] = or_img\n",
        "dup_img = cv2.resize(dup_img, (true_l, true_r))\n",
        "orig_img = Image.fromarray(dup_img)\n",
        "orig_img.save('/content/original_image.jpeg')"
      ],
      "id": "bt7NvqIGHdwE"
    },
    {
      "cell_type": "markdown",
      "metadata": {
        "id": "_9kheBub30kJ"
      },
      "source": [
        "#***Learning to See in the Dark***"
      ],
      "id": "_9kheBub30kJ"
    },
    {
      "cell_type": "code",
      "execution_count": null,
      "metadata": {
        "id": "My9iTHRD2X6a"
      },
      "outputs": [],
      "source": [
        "import requests\n",
        "import os"
      ],
      "id": "My9iTHRD2X6a"
    },
    {
      "cell_type": "code",
      "execution_count": null,
      "metadata": {
        "id": "L-RX56S82bLt"
      },
      "outputs": [],
      "source": [
        "def download_file_from_google_drive(id, destination):\n",
        "    URL = \"https://docs.google.com/uc?export=download\"\n",
        "\n",
        "    session = requests.Session()\n",
        "\n",
        "    response = session.get(URL, params = { 'id' : id }, stream = True)\n",
        "    token = get_confirm_token(response)\n",
        "\n",
        "    if token:\n",
        "        params = { 'id' : id, 'confirm' : token }\n",
        "        response = session.get(URL, params = params, stream = True)\n",
        "\n",
        "    save_response_content(response, destination)"
      ],
      "id": "L-RX56S82bLt"
    },
    {
      "cell_type": "code",
      "execution_count": null,
      "metadata": {
        "id": "XUtfzmCi2gP_"
      },
      "outputs": [],
      "source": [
        "def get_confirm_token(response):\n",
        "    for key, value in response.cookies.items():\n",
        "        if key.startswith('download_warning'):\n",
        "            return value\n",
        "\n",
        "    return None"
      ],
      "id": "XUtfzmCi2gP_"
    },
    {
      "cell_type": "code",
      "execution_count": null,
      "metadata": {
        "id": "QN2diA_82jIG"
      },
      "outputs": [],
      "source": [
        "def save_response_content(response, destination):\n",
        "    CHUNK_SIZE = 32768\n",
        "\n",
        "    with open(destination, \"wb\") as f:\n",
        "        for chunk in response.iter_content(CHUNK_SIZE):\n",
        "            if chunk: # filter out keep-alive new chunks\n",
        "                f.write(chunk)"
      ],
      "id": "QN2diA_82jIG"
    },
    {
      "cell_type": "code",
      "execution_count": null,
      "metadata": {
        "id": "DxX5CZyj2lwk"
      },
      "outputs": [],
      "source": [
        "download_file_from_google_drive('10kpAcvldtcb9G2ze5hTcF1odzu4V_Zvh', 'dataset/Sony.zip')"
      ],
      "id": "DxX5CZyj2lwk"
    },
    {
      "cell_type": "markdown",
      "source": [
        "#***Adding Rain and Snow***"
      ],
      "metadata": {
        "id": "eYZzzjlZA5xI"
      },
      "id": "eYZzzjlZA5xI"
    },
    {
      "cell_type": "code",
      "source": [
        "def add_snow(image):    \n",
        "  image_HLS = cv2.cvtColor(image, cv2.COLOR_RGB2HLS) ## Conversion to HLS \n",
        "  image_HLS = np.array(image_HLS, dtype=np.float64)     \n",
        "  brightness_coefficient = 2.5     \n",
        "  snow_point = 140 ## increase this for more snow    \n",
        "  image_HLS[:, :, 1][image_HLS[:, :, 1] < snow_point] = image_HLS[:, :, 1][image_HLS[:, :, 1] < snow_point] * brightness_coefficient ## scale pixel values up for channel 1(Lightness)    \n",
        "  image_HLS[:, :, 1][image_HLS[:, :, 1] > 255] = 255 ##Sets all values above 255 to 255    \n",
        "  image_HLS = np.array(image_HLS, dtype=np.uint8)    \n",
        "  image_RGB = cv2.cvtColor(image_HLS, cv2.COLOR_HLS2RGB) ## Conversion to RGB    \n",
        "  return image_RGB"
      ],
      "metadata": {
        "id": "uIY65cNeBAAI"
      },
      "id": "uIY65cNeBAAI",
      "execution_count": 5,
      "outputs": []
    },
    {
      "cell_type": "code",
      "source": [
        "def generate_random_lines(imshape, slant, drop_length):    \n",
        "  drops = []    \n",
        "  for i in range(100): ## If You want heavy rain, try increasing this        \n",
        "    if slant < 0:            \n",
        "      x = np.random.randint(slant, imshape[1])        \n",
        "    else:            \n",
        "      x = np.random.randint(0, imshape[1] - slant)        \n",
        "    y = np.random.randint(0, imshape[0] - drop_length)        \n",
        "    drops.append((x, y))    \n",
        "  return drops            "
      ],
      "metadata": {
        "id": "GwnzrsbzBhja"
      },
      "id": "GwnzrsbzBhja",
      "execution_count": 43,
      "outputs": []
    },
    {
      "cell_type": "code",
      "source": [
        "def add_rain(image):        \n",
        "  imshape = image.shape    \n",
        "  slant_extreme = 10    \n",
        "  slant = np.random.randint(-slant_extreme, slant_extreme)     \n",
        "  drop_length = 75    \n",
        "  drop_width = 10    \n",
        "  drop_color = (200, 200, 200) ## a shade of gray    \n",
        "  rain_drops = generate_random_lines(imshape, slant, drop_length)        \n",
        "  for rain_drop in rain_drops:        \n",
        "    cv2.line(image, (rain_drop[0], rain_drop[1]), (rain_drop[0] + slant, rain_drop[1] + drop_length), drop_color, drop_width)    \n",
        "    image = cv2.blur(image, (7, 7)) ## rainy view are blurry        \n",
        "    brightness_coefficient = 0.5 ## rainy days are usually shady     \n",
        "    image_HLS = cv2.cvtColor(image, cv2.COLOR_RGB2HLS) ## Conversion to HLS    \n",
        "    image_HLS[:, :, 1] = image_HLS[:, :, 1] * brightness_coefficient ## scale pixel values down for channel 1(Lightness)    \n",
        "    image_RGB = cv2.cvtColor(image_HLS, cv2.COLOR_HLS2RGB) ## Conversion to RGB    \n",
        "  return image_RGB"
      ],
      "metadata": {
        "id": "AKvIKJkqCiTU"
      },
      "id": "AKvIKJkqCiTU",
      "execution_count": 46,
      "outputs": []
    },
    {
      "cell_type": "code",
      "source": [
        "# Saved in Rain_Images\n",
        "\n",
        "for file_name in os.listdir(path):\n",
        "    try:\n",
        "        img = cv2.imread(path + '/' + file_name)\n",
        "        im_output = add_rain(img)\n",
        "        cv2.imwrite(rain_path + '/rain_' + file_name, im_output)\n",
        "    except Exception as e:\n",
        "        print(e)"
      ],
      "metadata": {
        "id": "JE-iKqsO-rI_"
      },
      "id": "JE-iKqsO-rI_",
      "execution_count": 12,
      "outputs": []
    },
    {
      "cell_type": "code",
      "source": [
        "# Saved in Snow_Images\n",
        "\n",
        "for file_name in os.listdir(path):\n",
        "    try:\n",
        "        img = cv2.imread(path + '/' + file_name)\n",
        "        im_output = add_snow(img)\n",
        "        cv2.imwrite(snow_path + '/snow_' + file_name, im_output)\n",
        "    except Exception as e:\n",
        "        print(e)"
      ],
      "metadata": {
        "id": "7ON6i5CC-vY4"
      },
      "id": "7ON6i5CC-vY4",
      "execution_count": 13,
      "outputs": []
    }
  ],
  "metadata": {
    "colab": {
      "collapsed_sections": [],
      "provenance": []
    },
    "gpuClass": "standard",
    "kernelspec": {
      "display_name": "Python 3",
      "language": "python",
      "name": "python3"
    },
    "language_info": {
      "codemirror_mode": {
        "name": "ipython",
        "version": 3
      },
      "file_extension": ".py",
      "mimetype": "text/x-python",
      "name": "python",
      "nbconvert_exporter": "python",
      "pygments_lexer": "ipython3",
      "version": "3.7.10"
    }
  },
  "nbformat": 4,
  "nbformat_minor": 5
}