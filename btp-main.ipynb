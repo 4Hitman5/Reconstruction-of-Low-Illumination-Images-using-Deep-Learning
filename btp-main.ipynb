{
  "cells": [
    {
      "cell_type": "markdown",
      "metadata": {
        "id": "U_37F7RTQrfu"
      },
      "source": [
        "Importing all the necessary modules"
      ]
    },
    {
      "cell_type": "code",
      "execution_count": 1,
      "metadata": {
        "id": "DYTe594MQrfv"
      },
      "outputs": [],
      "source": [
        "import os\n",
        "import cv2\n",
        "import numpy as np\n",
        "from PIL import Image, ImageEnhance, ImageFilter\n",
        "import time\n",
        "import matplotlib.pyplot as plt\n",
        "import math\n",
        "import datetime\n",
        "import tensorflow as tf\n",
        "from tensorflow.keras.layers import Input, Dense, Conv2D, MaxPooling2D, Dropout, UpSampling2D, BatchNormalization\n",
        "from tensorflow.keras.models import Model\n",
        "from google.colab.patches import cv2_imshow\n",
        "# from guidedfilter import guided_filter\n",
        "# import BM3D"
      ]
    },
    {
      "cell_type": "markdown",
      "metadata": {
        "id": "bVNZFu-QQrfw"
      },
      "source": [
        "Paths to various folders and files"
      ]
    },
    {
      "cell_type": "code",
      "execution_count": 2,
      "metadata": {
        "id": "2exPnkgaQrfy"
      },
      "outputs": [],
      "source": [
        "path = '/Users/rohitramesh4547gmail.com/Desktop/IITG/Semester-7/BTP/Good_Illumination_Images'\n",
        "store_path = '/Users/rohitramesh4547gmail.com/Desktop/IITG/Semester-7/BTP/Darkened_Images_0.2'\n",
        "fold_path = '/Users/rohitramesh4547gmail.com/Desktop/IITG/Semester-7/BTP'\n",
        "enhanced_path = '/Users/rohitramesh4547gmail.com/Desktop/IITG/Semester-7/BTP/Enhanced_Images_Histogram_Equalization'\n",
        "test_path = fold_path + '/test_dark.jpeg'\n",
        "path = '/content/drive/MyDrive/Illumination_Enhancement_BTP/Good_Illumination_Images'\n",
        "store_path_1 = '/content/drive/MyDrive/Illumination_Enhancement_BTP/Darkened_Images_0.1'\n",
        "store_path_2 = '/content/drive/MyDrive/Illumination_Enhancement_BTP/Darkened_Images_0.2'\n",
        "store_path_3 = '/content/drive/MyDrive/Illumination_Enhancement_BTP/Darkened_Images_0.3'\n",
        "rain_path = '/content/drive/MyDrive/Illumination_Enhancement_BTP/Rain_Images'\n",
        "snow_path = '/content/drive/MyDrive/Illumination_Enhancement_BTP/Snow_Images'\n",
        "ltsitd_long_path = '/content/drive/MyDrive/Illumination_Enhancement_BTP/LTSITD/long_jpeg'\n",
        "ltsitd_short_path = '/content/drive/MyDrive/Illumination_Enhancement_BTP/LTSITD/short_jpeg'\n",
        "all_im_path = '../input/btp-dataset'"
      ]
    },
    {
      "cell_type": "markdown",
      "metadata": {
        "id": "3mr6_jBLQrf0"
      },
      "source": [
        "For Google Colab Only!"
      ]
    },
    {
      "cell_type": "code",
      "execution_count": null,
      "metadata": {
        "colab": {
          "base_uri": "https://localhost:8080/"
        },
        "id": "drUymHB8Qrf1",
        "outputId": "2369fd0f-8a22-4493-c214-72b625a0791e"
      },
      "outputs": [
        {
          "output_type": "stream",
          "name": "stdout",
          "text": [
            "Mounted at /content/drive\n"
          ]
        }
      ],
      "source": [
        "from google.colab import drive\n",
        "drive.mount('/content/drive')"
      ]
    },
    {
      "cell_type": "markdown",
      "metadata": {
        "id": "5AKa0ty6Qrf2"
      },
      "source": [
        "Saving images in Darkened_Images_0.2"
      ]
    },
    {
      "cell_type": "code",
      "execution_count": null,
      "metadata": {
        "id": "osIG4JgbQrf2"
      },
      "outputs": [],
      "source": [
        "for file_name in os.listdir(path):\n",
        "    try:\n",
        "        img = Image.open(path + '/' + file_name)\n",
        "        enhancer = ImageEnhance.Brightness(img)\n",
        "        factor = 0.2\n",
        "        im_output = enhancer.enhance(factor)\n",
        "        im_output.save(store_path_2 + '/darkened_' + file_name)\n",
        "    except Exception as e:\n",
        "        print(e)"
      ]
    },
    {
      "cell_type": "markdown",
      "source": [
        "Using Bright/Dark Channel Prior Method"
      ],
      "metadata": {
        "id": "swSPLHjyRcoC"
      }
    },
    {
      "cell_type": "code",
      "execution_count": null,
      "metadata": {
        "id": "ACWkh2JFQrf4"
      },
      "outputs": [],
      "source": [
        "def get_illumination_channel(I, w):\n",
        "    M, N, _ = I.shape\n",
        "    padded = np.pad(I, ((int(w/2), int(w/2)),\n",
        "                        (int(w/2), int(w/2)), (0, 0)), 'edge')\n",
        "    darkch = np.zeros((M, N))\n",
        "    brightch = np.zeros((M, N))\n",
        "    for i, j in np.ndindex(darkch.shape):\n",
        "        # dark channel\n",
        "        darkch[i, j] = np.min(padded[i:i + w, j:j + w, :])\n",
        "        # bright channel\n",
        "        brightch[i, j] = np.max(padded[i:i + w, j:j + w, :]) \n",
        "    return darkch, brightch"
      ]
    },
    {
      "cell_type": "code",
      "execution_count": null,
      "metadata": {
        "id": "eMDQJuOxQrf5"
      },
      "outputs": [],
      "source": [
        "darkch, brightch = get_illumination_channel(test_image_1, 5)\n",
        "cv2.imwrite('darkch.jpeg', darkch)\n",
        "cv2.imwrite('brightch.jpeg', brightch)"
      ]
    },
    {
      "cell_type": "code",
      "execution_count": null,
      "metadata": {
        "id": "0whJh0n6Qrf5"
      },
      "outputs": [],
      "source": [
        "def get_atmosphere(I, brightch, p=0.1):\n",
        "    M, N = brightch.shape\n",
        "    flatI = I.reshape(M*N, 3) # reshaping image array\n",
        "    flatbright = brightch.ravel() #flattening image array\n",
        "    # sorting and slicing\n",
        "    searchidx = (-flatbright).argsort()[:int(M*N*p)] \n",
        "    A = np.mean(flatI.take(searchidx, axis=0),\n",
        "                dtype=np.float64, axis=0)\n",
        "    return A"
      ]
    },
    {
      "cell_type": "code",
      "execution_count": null,
      "metadata": {
        "id": "WtNqui_5Qrf6"
      },
      "outputs": [],
      "source": [
        "A = get_atmosphere(test_image_1, brightch)"
      ]
    },
    {
      "cell_type": "code",
      "execution_count": null,
      "metadata": {
        "id": "CiLjKb_eQrf6"
      },
      "outputs": [],
      "source": [
        "def get_initial_transmission(A, brightch):\n",
        "    A_c = np.max(A) / 255\n",
        "    # finding initial transmission map\n",
        "    init_t = (brightch - A_c) / (1. - A_c) \n",
        "    return init_t"
      ]
    },
    {
      "cell_type": "code",
      "execution_count": null,
      "metadata": {
        "id": "BSfTUqaSQrf7"
      },
      "outputs": [],
      "source": [
        "init_map = get_initial_transmission(A, brightch)\n",
        "cv2.imwrite('init_map.jpeg', init_map)"
      ]
    },
    {
      "cell_type": "code",
      "execution_count": null,
      "metadata": {
        "id": "nXBUTxbBQrf7"
      },
      "outputs": [],
      "source": [
        "def get_corrected_transmission(I, A, darkch, brightch,\n",
        "                               init_t, alpha, omega, w):\n",
        "    im = np.empty(I.shape, I.dtype);\n",
        "    for ind in range(0, 3):\n",
        "        #divide pixel values by atmospheric light\n",
        "        im[:, :, ind] = I[:, :, ind] / A[ind]\n",
        "    # dark channel transmission map\n",
        "    dark_c, _ = get_illumination_channel(im, w)\n",
        "    # corrected dark transmission map\n",
        "    dark_t = 1 - omega * dark_c \n",
        "    # initializing corrected transmission map\n",
        "    # with initial transmission map\n",
        "    corrected_t = init_t\n",
        "    # difference between transmission maps\n",
        "    diffch = brightch - darkch \n",
        "    for i in range(diffch.shape[0]):\n",
        "        for j in range(diffch.shape[1]):\n",
        "            if(diffch[i, j] < alpha):\n",
        "                corrected_t[i, j] = dark_t[i, j] * init_t[i, j]\n",
        "    return np.abs(corrected_t)"
      ]
    },
    {
      "cell_type": "code",
      "source": [
        "corrected_map = get_corrected_transmission(test_image_1, A,\n",
        "                                           darkch, brightch,\n",
        "                                           init_map, 0.4, 0.75, 5)\n",
        "cv2.imwrite('corrected_map.jpeg', corrected_map)"
      ],
      "metadata": {
        "id": "lggMTUhjVGOU"
      },
      "execution_count": null,
      "outputs": []
    },
    {
      "cell_type": "code",
      "execution_count": null,
      "metadata": {
        "id": "4Kc9EOpSQrf8"
      },
      "outputs": [],
      "source": [
        "def get_final_image(I, A, refined_t, tmin):\n",
        "    # duplicating the channel of 2D refined map to 3 channels\n",
        "    refined_t_broadcasted = np.broadcast_to(refined_t[:, :, None],\n",
        "                                            (refined_t.shape[0],\n",
        "                                             refined_t.shape[1], 3)) \n",
        "    J = ((I - A) / (np.where(refined_t_broadcasted < tmin,\n",
        "                             tmin, refined_t_broadcasted))) \n",
        "\n",
        "    # normalized image\n",
        "    return (J - np.min(J))/(np.max(J) - np.min(J)) "
      ]
    },
    {
      "cell_type": "code",
      "execution_count": null,
      "metadata": {
        "id": "FGqsz0r4Qrf8"
      },
      "outputs": [],
      "source": [
        "final = get_final_image(test_image_1, A, corrected_map, 0.1)\n",
        "final = (final * 255).astype(np.uint8)\n",
        "cv2.imwrite('final.jpeg', final)"
      ]
    },
    {
      "cell_type": "code",
      "execution_count": null,
      "metadata": {
        "id": "-k9_vY2WQrf9"
      },
      "outputs": [],
      "source": [
        "def reduce_init_t(init_t):\n",
        "    init_t = (init_t*255).astype(np.uint8) \n",
        "    xp = [0, 32, 255]\n",
        "    fp = [0, 32, 48]\n",
        "    x = np.arange(256) # creating array [0,...,255]\n",
        "    # interpreting fp according to xp in range of x\n",
        "    table = np.interp(x, xp, fp).astype('uint8') \n",
        "    init_t = cv2.LUT(init_t, table) # lookup table\n",
        "    # normalizing the transmission map\n",
        "    init_t = init_t.astype(np.float64)/255 \n",
        "    return init_t"
      ]
    },
    {
      "cell_type": "code",
      "execution_count": null,
      "metadata": {
        "id": "bGx1_bZqQrf9"
      },
      "outputs": [],
      "source": [
        "def dehaze(im, tmin=0.1, w=5, alpha=0.4, omega=0.75,\n",
        "           p=0.1, eps=1e-3, reduce=False):\n",
        "    # Convert the input to a float array.\n",
        "    I = np.asarray(im, dtype=np.float64) \n",
        "    I = I[:, :, :3] / 255\n",
        "    m, n, _ = I.shape\n",
        "    Idark, Ibright = get_illumination_channel(I, w)\n",
        "    A = get_atmosphere(I, Ibright, p)\n",
        "    # print(\"Obtained atmosphere lighting\")\n",
        "    init_t = get_initial_transmission(A, Ibright) \n",
        "    # print(\"Obtained initial transmission map\")\n",
        "    if reduce:\n",
        "        init_t = reduce_init_t(init_t)\n",
        "        # print(\"Obtained reduced transmission map\")\n",
        "    corrected_t = get_corrected_transmission(I, A,\n",
        "                                             Idark, Ibright,\n",
        "                                             init_t, alpha, omega, w)\n",
        "    # print(\"Obtained corrected transmission map\")\n",
        "    normI = (I - I.min()) / (I.max() - I.min())\n",
        "    # applying guided filter\n",
        "    refined_t = guided_filter(normI, corrected_t, w, eps) \n",
        "    # print(\"Obtained image after applying guided filter\")\n",
        "    \n",
        "    J_refined = get_final_image(I, A, refined_t, tmin)\n",
        "    # print(\"Obtained final image before enhancement\")\n",
        "    \n",
        "    enhanced = (J_refined * 255).astype(np.uint8)\n",
        "    f_enhanced = cv2.detailEnhance(enhanced, sigma_s=10,\n",
        "                                   sigma_r=0.15)\n",
        "    f_enhanced = cv2.edgePreservingFilter(f_enhanced,\n",
        "                                          flags=1, sigma_s=64,\n",
        "                                          sigma_r=0.2)\n",
        "    return f_enhanced"
      ]
    },
    {
      "cell_type": "code",
      "execution_count": null,
      "metadata": {
        "colab": {
          "base_uri": "https://localhost:8080/"
        },
        "id": "UsrFB9YAQrf9",
        "outputId": "374fa968-d70c-4126-9dbd-16552469b665"
      },
      "outputs": [
        {
          "output_type": "execute_result",
          "data": {
            "text/plain": [
              "True"
            ]
          },
          "metadata": {},
          "execution_count": 46
        }
      ],
      "source": [
        "f_enhanced = dehaze(test_image_1, tmin=0.1, w=5,\n",
        "                    alpha=0.4, omega=0.75, p=0.1, eps=1e-3,\n",
        "                    reduce=False)\n",
        "cv2.imwrite('enhanced_1.jpeg', f_enhanced)"
      ]
    },
    {
      "cell_type": "markdown",
      "metadata": {
        "id": "7qkMv4YDQrf-"
      },
      "source": [
        "Pixel Enhancement Method (Increasing value in HSV image)"
      ]
    },
    {
      "cell_type": "code",
      "execution_count": null,
      "metadata": {
        "id": "inChHzWIQrf-"
      },
      "outputs": [],
      "source": [
        "def increase_brightness(img, value):\n",
        "    hsv = cv2.cvtColor(img, cv2.COLOR_BGR2HSV)\n",
        "    hsv[:, :, 2] += value\n",
        "    img = cv2.cvtColor(hsv, cv2.COLOR_HSV2BGR)\n",
        "    return img"
      ]
    },
    {
      "cell_type": "code",
      "execution_count": null,
      "metadata": {
        "colab": {
          "base_uri": "https://localhost:8080/"
        },
        "id": "bQHxxh6vQrf-",
        "outputId": "c5683e29-e213-4be0-ab7c-07edde7e2390"
      },
      "outputs": [
        {
          "output_type": "execute_result",
          "data": {
            "text/plain": [
              "True"
            ]
          },
          "metadata": {},
          "execution_count": 48
        }
      ],
      "source": [
        "pixel_enhanced = increase_brightness(test_image_1, 50)\n",
        "cv2.imwrite('/content/pixel_enhanced.jpeg', pixel_enhanced)"
      ]
    },
    {
      "cell_type": "markdown",
      "metadata": {
        "id": "-JHUBf17Qrf-"
      },
      "source": [
        "Gamma Correction Method"
      ]
    },
    {
      "cell_type": "code",
      "execution_count": null,
      "metadata": {
        "id": "AvquZS4XQrf-"
      },
      "outputs": [],
      "source": [
        "def increase_contrast_brightness(img, alpha, beta, gamma):\n",
        "    new_image = np.zeros(img.shape, img.dtype)\n",
        "    for y in range(img.shape[0]):\n",
        "        for x in range(img.shape[1]):\n",
        "            for c in range(img.shape[2]):\n",
        "                new_image[y, x, c] = np.clip(alpha * img[y, x, c] + beta,\n",
        "                                             0, 255)\n",
        "    lookUpTable = np.empty((1, 256), np.uint8)\n",
        "    for i in range(256):\n",
        "        lookUpTable[0, i] = np.clip(pow(i / 255.0, gamma) * 255.0,\n",
        "                                    0, 255)\n",
        "    res = cv2.LUT(new_image, lookUpTable)\n",
        "    return new_image, res"
      ]
    },
    {
      "cell_type": "code",
      "execution_count": null,
      "metadata": {
        "colab": {
          "base_uri": "https://localhost:8080/"
        },
        "id": "1cXzRcjZQrf_",
        "outputId": "0e7320d6-caea-4b6b-ae67-e6c0de011644"
      },
      "outputs": [
        {
          "output_type": "execute_result",
          "data": {
            "text/plain": [
              "True"
            ]
          },
          "metadata": {},
          "execution_count": 50
        }
      ],
      "source": [
        "image_linear_transform, gamma_corrected = increase_contrast_brightness(\n",
        "    test_image_1, 2.2, 50, 0.4)\n",
        "cv2.imwrite('/content/gamma_corrected.jpeg', gamma_corrected)"
      ]
    },
    {
      "cell_type": "markdown",
      "metadata": {
        "id": "o87WFfaWQrf_"
      },
      "source": [
        "Histogram Equalization Method and CLAHE Method"
      ]
    },
    {
      "cell_type": "code",
      "execution_count": null,
      "metadata": {
        "colab": {
          "base_uri": "https://localhost:8080/",
          "height": 276
        },
        "id": "dbTe5gqAQrf_",
        "outputId": "a2aed5eb-17ca-495e-ddc9-351acd84faa0"
      },
      "outputs": [
        {
          "output_type": "display_data",
          "data": {
            "text/plain": [
              "<Figure size 432x288 with 1 Axes>"
            ],
            "image/png": "[encoded data removed]"
          },
          "metadata": {
            "needs_background": "light"
          }
        }
      ],
      "source": [
        "hist, bins = np.histogram(test_image_1.flatten(), 256, [0, 256])\n",
        "plt.hist(test_image_1.flatten(), 256, [0, 256], color='r')\n",
        "plt.xlim([0, 256])\n",
        "plt.show()"
      ]
    },
    {
      "cell_type": "code",
      "execution_count": null,
      "metadata": {
        "id": "WSN-5K3jQrgA"
      },
      "outputs": [],
      "source": [
        "def histogram_equalization_and_CLAHE(img_in):\n",
        "    b,g,r = cv2.split(img_in) \n",
        "    equ_b = cv2.equalizeHist(b)\n",
        "    equ_g = cv2.equalizeHist(g)\n",
        "    equ_r = cv2.equalizeHist(r)\n",
        "    he_final = cv2.merge((equ_b, equ_g, equ_r))\n",
        "    \n",
        "    clahe = cv2.createCLAHE(clipLimit=40)\n",
        "    clahe_b = clahe.apply(equ_b)\n",
        "    clahe_g = clahe.apply(equ_g)\n",
        "    clahe_r = clahe.apply(equ_r)\n",
        "    clahe_final = cv2.merge((clahe_b, clahe_g, clahe_r))\n",
        "    \n",
        "    cv2.imwrite('histogram_equalization.jpeg', he_final)\n",
        "    cv2.imwrite('clahe.jpeg', clahe_final)\n",
        "    return he_final, clahe_final"
      ]
    },
    {
      "cell_type": "code",
      "execution_count": null,
      "metadata": {
        "colab": {
          "base_uri": "https://localhost:8080/",
          "height": 535
        },
        "id": "LyIyXWZbQrgA",
        "outputId": "7dd4e487-891a-4e7e-845e-3e82a18fdcb1"
      },
      "outputs": [
        {
          "output_type": "display_data",
          "data": {
            "text/plain": [
              "<Figure size 432x288 with 1 Axes>"
            ],
            "image/png": "[encoded data removed]"
          },
          "metadata": {
            "needs_background": "light"
          }
        },
        {
          "output_type": "display_data",
          "data": {
            "text/plain": [
              "<Figure size 432x288 with 1 Axes>"
            ],
            "image/png": "[encoded data removed]"
          },
          "metadata": {
            "needs_background": "light"
          }
        }
      ],
      "source": [
        "he_final, clahe_final = histogram_equalization_and_CLAHE(test_image_1)\n",
        "hist, bins = np.histogram(he_final.flatten(), 256, [0, 256])\n",
        "plt.hist(he_final.flatten(), 256, [0, 256], color='r')\n",
        "plt.xlim([0, 256])\n",
        "plt.show()\n",
        "hist, bins = np.histogram(clahe_final.flatten(), 256, [0, 256])\n",
        "plt.hist(clahe_final.flatten(), 256, [0, 256], color='r')\n",
        "plt.xlim([0, 256])\n",
        "plt.show()"
      ]
    },
    {
      "cell_type": "code",
      "execution_count": null,
      "metadata": {
        "id": "sm9bZj30QrgA"
      },
      "outputs": [],
      "source": [
        "gray_img = cv2.cvtColor(test_image_1, cv2.COLOR_BGR2GRAY)\n",
        "hist = cv2.calcHist(gray_img, [0], None, [256], [0, 256])\n",
        "plt.subplot(121)\n",
        "plt.title(\"Image1\")\n",
        "plt.xlabel('bins')\n",
        "plt.ylabel(\"No of pixels\")\n",
        "plt.plot(hist)\n",
        "plt.show()\n",
        "gray_img_eqhist = cv2.equalizeHist(gray_img)\n",
        "hist = cv2.calcHist(gray_img_eqhist, [0], None, [256], [0, 256])\n",
        "plt.subplot(121)\n",
        "plt.title(\"Image2\")\n",
        "plt.xlabel('bins')\n",
        "plt.ylabel(\"No of pixels\")\n",
        "plt.plot(hist)\n",
        "plt.show()\n",
        "gray_img_eqhist = cv2.cvtColor(gray_img_eqhist, cv2.COLOR_GRAY2BGR)\n",
        "cv2.imwrite('/content/gray_img_eqhist.jpeg', gray_img_eqhist)"
      ]
    },
    {
      "cell_type": "markdown",
      "metadata": {
        "id": "SUwlZoMEQrgB"
      },
      "source": [
        "Using CLAHE (Contrast Limited Adaptive Histogram Equalization)"
      ]
    },
    {
      "cell_type": "code",
      "execution_count": null,
      "metadata": {
        "id": "WZ0DcaTaQrgB"
      },
      "outputs": [],
      "source": [
        "gray_img_eqhist = cv2.equalizeHist(gray_img)\n",
        "clahe = cv2.createCLAHE(clipLimit=40)\n",
        "gray_img_clahe = clahe.apply(gray_img_eqhist)\n",
        "gray_img_clahe = cv2.cvtColor(gray_img_clahe, cv2.COLOR_GRAY2BGR)\n",
        "cv2.imwrite('/content/gray_img_clahe.jpeg', gray_img_clahe)"
      ]
    },
    {
      "cell_type": "markdown",
      "metadata": {
        "id": "QRFhjfvTQrgB"
      },
      "source": [
        "OTSU Binarization "
      ]
    },
    {
      "cell_type": "code",
      "execution_count": null,
      "metadata": {
        "id": "i7w_GZWeQrgC"
      },
      "outputs": [],
      "source": [
        "ret, thresh = cv2.threshold(gray_img, 0, 255, cv2.THRESH_BINARY + cv2.THRESH_OTSU)\n",
        "# thresh = Image.fromarray(thresh)\n",
        "# thresh.show()"
      ]
    },
    {
      "cell_type": "markdown",
      "metadata": {
        "id": "KpZktZe9QrgC"
      },
      "source": [
        "Adaptive Thresholding"
      ]
    },
    {
      "cell_type": "code",
      "execution_count": null,
      "metadata": {
        "id": "YpqaXD_wQrgC"
      },
      "outputs": [],
      "source": [
        "thresh1 = cv2.adaptiveThreshold(gray_img, 255, cv2.ADAPTIVE_THRESH_MEAN_C, cv2.THRESH_BINARY, 31, 3)\n",
        "thresh2 = cv2.adaptiveThreshold(gray_img, 255, cv2.ADAPTIVE_THRESH_GAUSSIAN_C, cv2.THRESH_BINARY, 13, 5)\n",
        "final = np.concatenate((thresh1, thresh2), axis = 1)\n",
        "# final = Image.fromarray(final)\n",
        "# final.show()"
      ]
    },
    {
      "cell_type": "markdown",
      "metadata": {
        "id": "xw5fzHQDQrgC"
      },
      "source": [
        "Test-Image"
      ]
    },
    {
      "cell_type": "code",
      "execution_count": null,
      "metadata": {
        "id": "ug41rOkNQrgC"
      },
      "outputs": [],
      "source": [
        "original_image = np.asarray(original_image, dtype=np.float64)\n",
        "print(original_image.shape)"
      ]
    },
    {
      "cell_type": "markdown",
      "metadata": {
        "id": "H84zgxSIQrgD"
      },
      "source": [
        "Simple Pixel Enhancement"
      ]
    },
    {
      "cell_type": "code",
      "execution_count": null,
      "metadata": {
        "id": "5gCjVm84QrgD"
      },
      "outputs": [],
      "source": [
        "print(stack_bright.shape)\n",
        "stack_bright = np.asarray(stack_bright, dtype=np.float64)\n",
        "print(\"Simple Pixel Enhancement MSE = \", mse(stack_bright, original_image))"
      ]
    },
    {
      "cell_type": "markdown",
      "metadata": {
        "id": "YJqeyiZZQrgD"
      },
      "source": [
        "Linear Pixel Transformation Method"
      ]
    },
    {
      "cell_type": "code",
      "execution_count": null,
      "metadata": {
        "id": "lARW6_Z-QrgD"
      },
      "outputs": [],
      "source": [
        "print(image_linear_transform.shape)\n",
        "image_linear_transform = np.asarray(image_linear_transform, dtype=np.float64)\n",
        "print(\"Linear Pixel Transformation Method MSE = \", mse(image_linear_transform, original_image))"
      ]
    },
    {
      "cell_type": "markdown",
      "metadata": {
        "id": "gzRLdZGDQrgD"
      },
      "source": [
        "Linear Pixel Transformation Method with Gamma Correction"
      ]
    },
    {
      "cell_type": "code",
      "execution_count": null,
      "metadata": {
        "id": "l0bRJd_2QrgE"
      },
      "outputs": [],
      "source": [
        "print(gamma_corrected.shape)\n",
        "gamma_corrected = np.asarray(gamma_corrected, dtype=np.float64)\n",
        "print(\"Linear Pixel Transformation Method with Gamma Correction MSE = \", mse(gamma_corrected, original_image))"
      ]
    },
    {
      "cell_type": "markdown",
      "metadata": {
        "id": "pwXJThLPQrgE"
      },
      "source": [
        "Histogram Equalization Method"
      ]
    },
    {
      "cell_type": "code",
      "execution_count": null,
      "metadata": {
        "id": "bAG_tV4aQrgE"
      },
      "outputs": [],
      "source": [
        "gray_img_eqhist = cv2.cvtColor(gray_img_eqhist, cv2.COLOR_GRAY2BGR)\n",
        "print(gray_img_eqhist.shape)\n",
        "gray_img_eqhist = np.asarray(gray_img_eqhist, dtype=np.float64)\n",
        "print(\"Histogram Equalization Method = \", mse(gray_img_eqhist, original_image))"
      ]
    },
    {
      "cell_type": "markdown",
      "metadata": {
        "id": "A-12F0R-QrgE"
      },
      "source": [
        "CLAHE Method"
      ]
    },
    {
      "cell_type": "code",
      "execution_count": null,
      "metadata": {
        "id": "t50jzw8MQrgE"
      },
      "outputs": [],
      "source": [
        "gray_img_clahe = cv2.cvtColor(gray_img_clahe, cv2.COLOR_GRAY2BGR)\n",
        "print(gray_img_clahe.shape)\n",
        "gray_img_clahe = np.asarray(gray_img_clahe, dtype=np.float64)\n",
        "print(\"CLAHE Method MSE = \", mse(gray_img_clahe, original_image))"
      ]
    },
    {
      "cell_type": "markdown",
      "metadata": {
        "id": "wCEi38iRQrgE"
      },
      "source": [
        "Adaptive Thresholding Method - MEAN"
      ]
    },
    {
      "cell_type": "code",
      "execution_count": null,
      "metadata": {
        "id": "8wJOFPiIQrgF"
      },
      "outputs": [],
      "source": [
        "thresh1 = cv2.cvtColor(thresh1, cv2.COLOR_GRAY2BGR)\n",
        "print(thresh1.shape)\n",
        "thresh1 = np.asarray(thresh1, dtype=np.float64)\n",
        "print(\"Adaptive Thresholding Method - MEAN MSE = \", mse(thresh1, original_image))"
      ]
    },
    {
      "cell_type": "markdown",
      "metadata": {
        "id": "gxizx42VQrgF"
      },
      "source": [
        "Adaptive Thresholding Method - GAUSSIAN"
      ]
    },
    {
      "cell_type": "code",
      "execution_count": null,
      "metadata": {
        "id": "VpD9Sd9PQrgF"
      },
      "outputs": [],
      "source": [
        "thresh2 = cv2.cvtColor(thresh2, cv2.COLOR_GRAY2BGR)\n",
        "print(thresh2.shape)\n",
        "thresh2 = np.asarray(thresh2, dtype=np.float64)\n",
        "print(\"Adaptive Thresholding Method - GAUSSIAN MSE = \", mse(thresh2, original_image))"
      ]
    },
    {
      "cell_type": "markdown",
      "metadata": {
        "id": "6m2HkJcNQrgF"
      },
      "source": [
        "OTSU Binarization Method "
      ]
    },
    {
      "cell_type": "code",
      "execution_count": null,
      "metadata": {
        "id": "EkuA8k23QrgF"
      },
      "outputs": [],
      "source": [
        "thresh = cv2.cvtColor(thresh, cv2.COLOR_GRAY2BGR)\n",
        "print(thresh.shape)\n",
        "thresh = np.asarray(thresh, dtype=np.float64)\n",
        "print(\"OTSU Binarization Method  MSE = \", mse(thresh, original_image))"
      ]
    },
    {
      "cell_type": "markdown",
      "metadata": {
        "id": "V-oEbm30QrgF"
      },
      "source": [
        "Using Histogram Equalization on Several Images for Testing"
      ]
    },
    {
      "cell_type": "code",
      "execution_count": null,
      "metadata": {
        "id": "_NLnjJuJQrgG"
      },
      "outputs": [],
      "source": [
        "count = 0\n",
        "total_mse = 0\n",
        "for file_name in os.listdir(store_path):\n",
        "    try:\n",
        "        im_to_enhance = cv2.imread(store_path + '/' + file_name)\n",
        "        im_original = Image.open(path + '/' + file_name[9:])\n",
        "        original = np.asarray(im_original, dtype=np.float64)\n",
        "        gray_img = cv2.cvtColor(im_to_enhance, cv2.COLOR_BGR2GRAY)\n",
        "        start_time = time.time()\n",
        "        result = cv2.equalizeHist(gray_img)\n",
        "        end_time = time.time()\n",
        "        print(end_time - start_time)\n",
        "        result = cv2.cvtColor(result, cv2.COLOR_GRAY2BGR)\n",
        "        result = np.asarray(result, dtype=np.float64)\n",
        "        print(result.shape)\n",
        "        print(original.shape)\n",
        "        current_mse = mse(result, original)\n",
        "        count += 1\n",
        "        print(f\"image - {count} is enhanced and the mse for the image was {current_mse}\")\n",
        "        total_mse += current_mse\n",
        "        result = np.asarray(result, dtype=np.uint8)\n",
        "        im_output = Image.fromarray(result)\n",
        "        im_output.save(enhanced_path + '/enhanced_eq_hist' + file_name[9:])\n",
        "    except Exception as e:\n",
        "        print(e)\n",
        "    if count >= 10:\n",
        "        break\n",
        "print(\"Mean MSE = \", total_mse / 10)"
      ]
    },
    {
      "cell_type": "markdown",
      "metadata": {
        "id": "oaAo2-OIQrgG"
      },
      "source": [
        "Default parameters for Tan-Triggs"
      ]
    },
    {
      "cell_type": "code",
      "execution_count": null,
      "metadata": {
        "id": "02Iqia4HQrgG"
      },
      "outputs": [],
      "source": [
        "rows = gray_img.shape[0]\n",
        "cols = gray_img.shape[1]"
      ]
    },
    {
      "cell_type": "markdown",
      "metadata": {
        "id": "j8hRmiH1QrgG"
      },
      "source": [
        "Gamma Correction "
      ]
    },
    {
      "cell_type": "code",
      "execution_count": null,
      "metadata": {
        "id": "1N5Ib-pXQrgG"
      },
      "outputs": [],
      "source": [
        "gamma = 0.2"
      ]
    },
    {
      "cell_type": "markdown",
      "metadata": {
        "id": "9c2J3nlTQrgG"
      },
      "source": [
        "Difference of Gaussian (DoG) Filterings"
      ]
    },
    {
      "cell_type": "code",
      "execution_count": null,
      "metadata": {
        "id": "fAzFOIqGQrgH"
      },
      "outputs": [],
      "source": [
        "sigma_0 = 1\n",
        "sigma_1 = 2"
      ]
    },
    {
      "cell_type": "markdown",
      "metadata": {
        "id": "cwhRwTNWQrgH"
      },
      "source": [
        "Contrast Equalization"
      ]
    },
    {
      "cell_type": "code",
      "execution_count": null,
      "metadata": {
        "id": "QGPzFXcLQrgH"
      },
      "outputs": [],
      "source": [
        "alpha = 0.1\n",
        "tao = 10"
      ]
    },
    {
      "cell_type": "markdown",
      "metadata": {
        "id": "Kux40m6zQrgH"
      },
      "source": [
        "Tan - Triggs Method"
      ]
    },
    {
      "cell_type": "code",
      "execution_count": null,
      "metadata": {
        "id": "L6PLDi2FQrgH"
      },
      "outputs": [],
      "source": [
        "gamma_corrected = gray_img ** gamma\n",
        "kernel_0 = ImageFilter.GaussianBlur(radius=sigma_0)\n",
        "kernel_1 = ImageFilter.GaussianBlur(radius=sigma_1)\n",
        "# kernel_0 = np.ones((3 * sigma_0, 3 * sigma_0))\n",
        "# kernel_1 = np.ones((3 * sigma_1 + 1, 3 * sigma_1 + 1))"
      ]
    },
    {
      "cell_type": "code",
      "execution_count": null,
      "metadata": {
        "id": "AyZlmzbhQrgH"
      },
      "outputs": [],
      "source": [
        "image_0 = Image.fromarray(gamma_corrected).convert('L').filter(kernel_0)\n",
        "image_1 = Image.fromarray(gamma_corrected).convert('L').filter(kernel_1)"
      ]
    },
    {
      "cell_type": "code",
      "execution_count": null,
      "metadata": {
        "id": "izG6aH4nQrgI"
      },
      "outputs": [],
      "source": [
        "image_0 = np.array(image_0)\n",
        "image_1 = np.array(image_1)"
      ]
    },
    {
      "cell_type": "code",
      "execution_count": null,
      "metadata": {
        "id": "Mnvh-yWcQrgI"
      },
      "outputs": [],
      "source": [
        "image = image_0 - image_1"
      ]
    },
    {
      "cell_type": "code",
      "execution_count": null,
      "metadata": {
        "id": "uwDLw5vPQrgI"
      },
      "outputs": [],
      "source": [
        "image = image / ((np.mean((abs(image.flatten())) ** alpha)) ** (1 / alpha))\n",
        "image = image / (np.mean([np.min(tao * np.ones((1, rows * cols))) ** alpha, np.min(abs(gray_img.flatten().reshape((1, rows * cols)))) ** alpha]) ** (1 / alpha))\n",
        "image = tao * np.tanh(image / tao)"
      ]
    },
    {
      "cell_type": "code",
      "execution_count": null,
      "metadata": {
        "id": "rgO6Cpx5QrgI"
      },
      "outputs": [],
      "source": [
        "max_image = np.max(np.max(image))\n",
        "min_image = np.min(np.min(image))"
      ]
    },
    {
      "cell_type": "code",
      "execution_count": null,
      "metadata": {
        "id": "NXMtJ-d_QrgI"
      },
      "outputs": [],
      "source": [
        "for i in range(image.shape[0]):\n",
        "    for j in range(image.shape[1]):\n",
        "        image[i][j] = math.ceil(((image[i][j] - min_image) / (max_image - min_image)) * 255)\n",
        "image = np.asarray(image, dtype=np.uint8)\n",
        "image = cv2.cvtColor(image, cv2.COLOR_GRAY2BGR)\n",
        "display_image = Image.fromarray(image).convert('RGB')\n",
        "display_image.save('/content/tan_triggs_IMG_2838.jpeg')"
      ]
    },
    {
      "cell_type": "markdown",
      "source": [
        "BM3D De-Noising Technique"
      ],
      "metadata": {
        "id": "WvoCCYu1Z4H-"
      }
    },
    {
      "cell_type": "code",
      "source": [
        "! pip install bm3d"
      ],
      "metadata": {
        "colab": {
          "base_uri": "https://localhost:8080/"
        },
        "id": "j0T-uBvyLSHw",
        "outputId": "52a178dc-d368-4602-bb37-6683f0e4f0f3"
      },
      "execution_count": null,
      "outputs": [
        {
          "output_type": "stream",
          "name": "stdout",
          "text": [
            "Looking in indexes: https://pypi.org/simple, https://us-python.pkg.dev/colab-wheels/public/simple/\n",
            "Requirement already satisfied: bm3d in /usr/local/lib/python3.7/dist-packages (3.0.9)\n",
            "Requirement already satisfied: PyWavelets in /usr/local/lib/python3.7/dist-packages (from bm3d) (1.3.0)\n",
            "Requirement already satisfied: numpy in /usr/local/lib/python3.7/dist-packages (from bm3d) (1.21.6)\n",
            "Requirement already satisfied: scipy in /usr/local/lib/python3.7/dist-packages (from bm3d) (1.7.3)\n"
          ]
        }
      ]
    },
    {
      "cell_type": "code",
      "source": [
        "! python BM3D.py"
      ],
      "metadata": {
        "colab": {
          "base_uri": "https://localhost:8080/"
        },
        "id": "SVehaJ_M4mvm",
        "outputId": "3babc2a2-d6b8-423d-f6b3-eee1a216cec0"
      },
      "execution_count": null,
      "outputs": [
        {
          "output_type": "stream",
          "name": "stdout",
          "text": [
            "Image Read\n",
            "The PSNR of basic image is 29.912951045496143 dB.\n",
            "\n",
            "Basic estimate has been saved successfully.\n",
            "\n",
            "The running time of basic estimate is 392.58781695365906 seconds.\n",
            "\n",
            "The PSNR of final image is 29.150656957072517 dB.\n",
            "\n",
            "Final estimate has been saved successfully.\n",
            "\n",
            "The running time of final estimate is 477.4651083946228 seconds.\n",
            "\n"
          ]
        }
      ]
    },
    {
      "cell_type": "code",
      "source": [
        "import bm3d\n",
        "from bm3d import bm3d_rgb, BM3DProfile"
      ],
      "metadata": {
        "id": "HopVAr3LZqFZ"
      },
      "execution_count": null,
      "outputs": []
    },
    {
      "cell_type": "code",
      "source": [
        "image_noisy = cv2.imread('/content/denoised.jpeg') / 255\n",
        "# y = np.array(Image.open('/content/denoised.jpeg')) / 255\n",
        "# denoised_image = bm3d.bm3d(image_noisy, sigma_psd=30/255, stage_arg=bm3d.BM3DStages.HARD_THRESHOLDING)\n",
        "y_est = bm3d_rgb(image_noisy, sigma_psd=30/255)\n",
        "y_est = y_est * 255\n",
        "cv2.imwrite('denoised_new.jpeg', y_est)"
      ],
      "metadata": {
        "id": "fT4aEy2mZ1lt"
      },
      "execution_count": null,
      "outputs": []
    },
    {
      "cell_type": "markdown",
      "metadata": {
        "id": "VRe8XImXQrgI"
      },
      "source": [
        "Initializing image size for the Model and<br>\n",
        "data arrays for storing the images"
      ]
    },
    {
      "cell_type": "code",
      "execution_count": null,
      "metadata": {
        "id": "vqBnsfSPQrgJ"
      },
      "outputs": [],
      "source": [
        "im_size = 512\n",
        "images_darkened = []\n",
        "images_normal = []"
      ]
    },
    {
      "cell_type": "markdown",
      "metadata": {
        "id": "6RoYULIZQrgJ"
      },
      "source": [
        "Obtaining the entire dataset for training and testing purposes"
      ]
    },
    {
      "cell_type": "code",
      "execution_count": null,
      "metadata": {
        "id": "eMvS-yGEQrgJ"
      },
      "outputs": [],
      "source": [
        "for file in os.listdir(path):\n",
        "  if file.endswith('jpeg') and 'darkened' not in file:\n",
        "    img_light = cv2.imread(os.path.join(path, file))\n",
        "    img_light = cv2.cvtColor(img_light, cv2.COLOR_BGR2HSV)\n",
        "    img_light = img_light[:, :, 2]\n",
        "    img_light = cv2.resize(img_light, (im_size, im_size))\n",
        "    img_light = img_light / 255\n",
        "    images_normal.append(img_light)\n",
        "    img_dark_2 = cv2.imread(os.path.join(store_path_2,\n",
        "                                         'darkened_' + file))\n",
        "    img_dark_2 = cv2.rotate(img_dark_2,\n",
        "                            rotateCode=cv2.ROTATE_90_CLOCKWISE)\n",
        "    img_dark_2 = cv2.cvtColor(img_dark_2, cv2.COLOR_BGR2HSV)\n",
        "    img_dark_2 = img_dark_2[:, :, 2]\n",
        "    img_dark_2 = cv2.resize(img_dark_2, (im_size, im_size))\n",
        "    img_dark_2 = img_dark_2 / 255\n",
        "    images_darkened.append(img_dark_2)"
      ]
    },
    {
      "cell_type": "code",
      "execution_count": null,
      "metadata": {
        "id": "thGP0IBfQrgJ"
      },
      "outputs": [],
      "source": [
        "print(len(images_normal))\n",
        "print(len(images_darkened)) \n",
        "print(\"Done with 0.2 darkened images.\\n\")  "
      ]
    },
    {
      "cell_type": "code",
      "execution_count": null,
      "metadata": {
        "id": "mRhAE1UXQrgJ"
      },
      "outputs": [],
      "source": [
        "for file in os.listdir(path):\n",
        "  if file.endswith('jpeg') and 'darkened' not in file:\n",
        "    img_light = cv2.imread(os.path.join(path, file))\n",
        "    img_light = cv2.cvtColor(img_light, cv2.COLOR_BGR2HSV)\n",
        "    img_light = img_light[:, :, 2]\n",
        "    img_light = cv2.resize(img_light, (im_size, im_size))\n",
        "    img_light = img_light / 255\n",
        "    images_normal.append(img_light)\n",
        "    img_dark_1 = cv2.imread(os.path.join(store_path_1,\n",
        "                                         'darkened_' + file))\n",
        "    img_dark_1 = cv2.rotate(img_dark_1,\n",
        "                            rotateCode=cv2.ROTATE_90_CLOCKWISE)\n",
        "    img_dark_1 = cv2.cvtColor(img_dark_1, cv2.COLOR_BGR2HSV)\n",
        "    img_dark_1 = img_dark_1[:, :, 2]\n",
        "    img_dark_1 = cv2.resize(img_dark_1, (im_size, im_size))\n",
        "    img_dark_1 = img_dark_1 / 255\n",
        "    images_darkened.append(img_dark_1)"
      ]
    },
    {
      "cell_type": "code",
      "execution_count": null,
      "metadata": {
        "id": "BD1ZqJtxQrgK"
      },
      "outputs": [],
      "source": [
        "print(len(images_normal))\n",
        "print(len(images_darkened))\n",
        "print(\"Done with 0.1 darkened images.\\n\") "
      ]
    },
    {
      "cell_type": "code",
      "execution_count": null,
      "metadata": {
        "id": "d6YoJLNpQrgK"
      },
      "outputs": [],
      "source": [
        "for file in os.listdir(path):\n",
        "  if file.endswith('jpeg') and 'darkened' not in file:\n",
        "    img_light = cv2.imread(os.path.join(path, file))\n",
        "    img_light = cv2.cvtColor(img_light, cv2.COLOR_BGR2HSV)\n",
        "    img_light = img_light[:, :, 2]\n",
        "    img_light = cv2.resize(img_light, (im_size, im_size))\n",
        "    img_light = img_light / 255\n",
        "    images_normal.append(img_light)\n",
        "    img_dark_3 = cv2.imread(os.path.join(store_path_3,\n",
        "                                         'darkened_' + file))\n",
        "    img_dark_3 = cv2.rotate(img_dark_3,\n",
        "                            rotateCode=cv2.ROTATE_90_CLOCKWISE)\n",
        "    img_dark_3 = cv2.cvtColor(img_dark_3, cv2.COLOR_BGR2HSV)\n",
        "    img_dark_3 = img_dark_3[:, :, 2]\n",
        "    img_dark_3 = cv2.resize(img_dark_3, (im_size, im_size))\n",
        "    img_dark_3 = img_dark_3 / 255\n",
        "    images_darkened.append(img_dark_3)"
      ]
    },
    {
      "cell_type": "code",
      "execution_count": null,
      "metadata": {
        "id": "sLq3agQ8QrgK"
      },
      "outputs": [],
      "source": [
        "print(len(images_normal))\n",
        "print(len(images_darkened))\n",
        "print(\"Done with 0.3 darkened images.\\n\")"
      ]
    },
    {
      "cell_type": "markdown",
      "metadata": {
        "id": "Mzkx4o_IQrgK"
      },
      "source": [
        "Normalization and Storage of Data"
      ]
    },
    {
      "cell_type": "code",
      "execution_count": null,
      "metadata": {
        "id": "rMfsBexIQrgK"
      },
      "outputs": [],
      "source": [
        "images_darkened = np.array(images_darkened)\n",
        "images_darkened = images_darkened.reshape(-1, im_size, im_size, 1)\n",
        "images_normal = np.array(images_normal)\n",
        "images_normal = images_normal.reshape(-1, im_size, im_size, 1)"
      ]
    },
    {
      "cell_type": "code",
      "execution_count": null,
      "metadata": {
        "id": "Nbj4ja57QrgK"
      },
      "outputs": [],
      "source": [
        "x_train = images_darkened\n",
        "y_train = images_normal"
      ]
    },
    {
      "cell_type": "markdown",
      "metadata": {
        "id": "d4A-7iKiQrgL"
      },
      "source": [
        "Commented out IPython magic to ensure Python compatibility."
      ]
    },
    {
      "cell_type": "markdown",
      "metadata": {
        "id": "RIi-M4GyQrgL"
      },
      "source": [
        "Tensorboard Callbacks to monitor the progress of training"
      ]
    },
    {
      "cell_type": "code",
      "execution_count": null,
      "metadata": {
        "id": "9VpqGPWsQrgL"
      },
      "outputs": [],
      "source": [
        "log_dir_1 = \"logs/fit/\" + datetime.datetime.now().strftime(\n",
        "    \"%Y%m%d-%H%M%S\")\n",
        "log_folder = 'log_dir'\n",
        "TensorBoard_callbacks = [tf.keras.callbacks.TensorBoard(\n",
        "                        log_dir=log_folder,\n",
        "                        histogram_freq=1,\n",
        "                        write_graph=True,\n",
        "                        write_images=True,\n",
        "                        update_freq='epoch',\n",
        "                        profile_batch=2,\n",
        "                        embeddings_freq=1)]"
      ]
    },
    {
      "cell_type": "markdown",
      "metadata": {
        "id": "2mc7HLbYQrgL"
      },
      "source": [
        "The Auto - Encoder Model"
      ]
    },
    {
      "cell_type": "code",
      "execution_count": null,
      "metadata": {
        "id": "iaYIm0BhQrgL"
      },
      "outputs": [],
      "source": [
        "input_layer = Input(shape=(None, None, 1))"
      ]
    },
    {
      "cell_type": "markdown",
      "metadata": {
        "id": "U23nbta2QrgL"
      },
      "source": [
        "Encoder of Autoencoder"
      ]
    },
    {
      "cell_type": "code",
      "execution_count": null,
      "metadata": {
        "id": "XlvhjuCwQrgM"
      },
      "outputs": [],
      "source": [
        "x = Conv2D(64, (3, 3), activation='relu', padding='same')(input_layer)\n",
        "x = Conv2D(128, (3, 3), activation='relu', padding='same')(x)\n",
        "x = BatchNormalization()(x)"
      ]
    },
    {
      "cell_type": "code",
      "execution_count": null,
      "metadata": {
        "id": "Pwu2xqvxQrgM"
      },
      "outputs": [],
      "source": [
        "x = MaxPooling2D((2, 2), padding='same')(x)"
      ]
    },
    {
      "cell_type": "code",
      "execution_count": null,
      "metadata": {
        "id": "qRfZhyzJQrgM"
      },
      "outputs": [],
      "source": [
        "x = Dropout(0.5)(x)"
      ]
    },
    {
      "cell_type": "markdown",
      "metadata": {
        "id": "A21qeFHjQrgM"
      },
      "source": [
        "Decoder of Autoencoder"
      ]
    },
    {
      "cell_type": "code",
      "execution_count": null,
      "metadata": {
        "id": "ax5KtS5WQrgM"
      },
      "outputs": [],
      "source": [
        "x = Conv2D(128, (3, 3), activation='relu', padding='same')(x)\n",
        "x = Conv2D(64, (3, 3), activation='relu', padding='same')(x)\n",
        "x = BatchNormalization()(x)"
      ]
    },
    {
      "cell_type": "code",
      "execution_count": null,
      "metadata": {
        "id": "7gSNbFl3QrgN"
      },
      "outputs": [],
      "source": [
        "x = UpSampling2D((2, 2))(x)"
      ]
    },
    {
      "cell_type": "code",
      "execution_count": null,
      "metadata": {
        "id": "j8VKr7zlQrgN"
      },
      "outputs": [],
      "source": [
        "output_layer = Conv2D(1, (3, 3), activation='sigmoid', padding='same')(x)"
      ]
    },
    {
      "cell_type": "markdown",
      "metadata": {
        "id": "azKbBWP9QrgN"
      },
      "source": [
        "Final Model"
      ]
    },
    {
      "cell_type": "code",
      "execution_count": null,
      "metadata": {
        "id": "sm-LM4GMQrgN"
      },
      "outputs": [],
      "source": [
        "model = Model(inputs=[input_layer], outputs=[output_layer],\n",
        "              name='model_image_enhancer')\n",
        "model.summary()"
      ]
    },
    {
      "cell_type": "code",
      "execution_count": 4,
      "metadata": {
        "id": "0355NhtWQrgN"
      },
      "outputs": [],
      "source": [
        "def PSNR(y_true, y_pred):\n",
        "    return tf.convert_to_tensor(20 * tf.experimental.numpy.log10(tf.reduce_max(tf.reduce_max(y_pred)) / tf.math.sqrt(tf.math.reduce_mean(tf.keras.metrics.mean_squared_error(y_true, y_pred)))))"
      ]
    },
    {
      "cell_type": "code",
      "source": [
        "def SSIM(y_true, y_pred):\n",
        "        return tf.image.ssim(y_true, y_pred, 1.0)"
      ],
      "metadata": {
        "id": "xswb2qoJncTt"
      },
      "execution_count": 5,
      "outputs": []
    },
    {
      "cell_type": "code",
      "execution_count": null,
      "metadata": {
        "id": "DAtkn82HQrgN"
      },
      "outputs": [],
      "source": [
        "model.compile(optimizer='adam' , loss='mean_squared_error',\n",
        "              metrics=['mae', PSNR, SSIM], run_eagerly=True)"
      ]
    },
    {
      "cell_type": "code",
      "execution_count": null,
      "metadata": {
        "id": "G9zD5TFQQrgO"
      },
      "outputs": [],
      "source": [
        "history = model.fit(x_train, y_train, validation_split=0.2,\n",
        "                    epochs=50, batch_size=16,\n",
        "                    callbacks=TensorBoard_callbacks)"
      ]
    },
    {
      "cell_type": "code",
      "execution_count": null,
      "metadata": {
        "id": "gLgmjvZqQrgO"
      },
      "outputs": [],
      "source": [
        "model.save('model_image_enhancer.h5')"
      ]
    },
    {
      "cell_type": "code",
      "execution_count": null,
      "metadata": {
        "id": "mH5dda_AQrgO"
      },
      "outputs": [],
      "source": [
        "model = tf.keras.models.load_model('/content/LTSITD_model_0.h5',\n",
        "                                   compile=True,\n",
        "                                   custom_objects={'PSNR':PSNR})"
      ]
    },
    {
      "cell_type": "code",
      "source": [
        "model.summary()"
      ],
      "metadata": {
        "id": "YYTLHuFkvWYw"
      },
      "execution_count": null,
      "outputs": []
    },
    {
      "cell_type": "markdown",
      "metadata": {
        "id": "rN-7lCoaQrgO"
      },
      "source": [
        "Dimensions of the Image for Testing"
      ]
    },
    {
      "cell_type": "code",
      "execution_count": null,
      "metadata": {
        "id": "ZZQJgSDqQrgO"
      },
      "outputs": [],
      "source": [
        "im_size = 256\n",
        "original_image_1 = cv2.imread('/content/00001_00_10s.jpeg')\n",
        "original_image_2 = cv2.imread('/content/00002_00_10s.jpeg')\n",
        "original_image_3 = cv2.imread('/content/00012_00_10s.jpeg')\n",
        "original_image_4 = cv2.imread('/content/00028_00_10s.jpeg')\n",
        "test_image_1 = cv2.imread('/content/00001_07_0.1s.jpeg')\n",
        "test_image_2 = cv2.imread('/content/00002_08_0.1s.jpeg')\n",
        "test_image_3 = cv2.imread('/content/00012_07_0.1s.jpeg')\n",
        "test_image_4 = cv2.imread('/content/00028_08_0.1s.jpeg')"
      ]
    },
    {
      "cell_type": "markdown",
      "metadata": {
        "id": "NZmPqTOLQrgR"
      },
      "source": [
        "Testing and Viewing the Results"
      ]
    },
    {
      "cell_type": "code",
      "execution_count": null,
      "metadata": {
        "id": "K5fA4lRCQrgR"
      },
      "outputs": [],
      "source": [
        "# img = cv2.cvtColor(test_image_1, cv2.COLOR_BGR2HSV)\n",
        "# img = img[:, :, 2]\n",
        "img = cv2.resize(test_image_1, (im_size, im_size))\n",
        "img = img / 255.0\n",
        "img = img.reshape(-1, img.shape[0], img.shape[1], 3)"
      ]
    },
    {
      "cell_type": "code",
      "execution_count": null,
      "metadata": {
        "id": "vucvgsOSQrgS"
      },
      "outputs": [],
      "source": [
        "# or_img = cv2.cvtColor(original_image_1, cv2.COLOR_BGR2HSV)\n",
        "# or_img = or_img[:, :, 2]\n",
        "or_img = cv2.resize(original_image_1, (im_size, im_size))\n",
        "or_img = or_img / 255.0\n",
        "or_img = or_img.reshape(-1, or_img.shape[0], or_img.shape[1], 3)"
      ]
    },
    {
      "cell_type": "code",
      "execution_count": null,
      "metadata": {
        "colab": {
          "base_uri": "https://localhost:8080/"
        },
        "id": "UMZi4BgCQrgS",
        "outputId": "09d7ee26-08d0-4fc7-97bf-c6f61d8b93d8"
      },
      "outputs": [
        {
          "output_type": "stream",
          "name": "stdout",
          "text": [
            "1/1 [==============================] - 1s 816ms/step - loss: 0.0948 - mae: 0.2767 - PSNR: 10.2305 - SSIM: 0.1846\n"
          ]
        },
        {
          "output_type": "execute_result",
          "data": {
            "text/plain": [
              "[0.09483098983764648,\n",
              " 0.27667832374572754,\n",
              " 10.230496406555176,\n",
              " 0.18463654816150665]"
            ]
          },
          "metadata": {},
          "execution_count": 88
        }
      ],
      "source": [
        "model.evaluate(img, or_img)"
      ]
    },
    {
      "cell_type": "code",
      "execution_count": null,
      "metadata": {
        "colab": {
          "base_uri": "https://localhost:8080/"
        },
        "id": "z8kjbL3NQrgS",
        "outputId": "39e0e635-3506-4f60-86d5-7a1a5e76d695"
      },
      "outputs": [
        {
          "output_type": "stream",
          "name": "stdout",
          "text": [
            "1/1 [==============================] - 0s 441ms/step\n"
          ]
        },
        {
          "output_type": "execute_result",
          "data": {
            "text/plain": [
              "True"
            ]
          },
          "metadata": {},
          "execution_count": 89
        }
      ],
      "source": [
        "pred = model.predict(img)\n",
        "pred = pred * 255\n",
        "pred = np.asarray(pred, dtype=np.uint8)\n",
        "pred = pred[0]\n",
        "# .reshape((im_size, im_size))\n",
        "# dup_img = test_image_1\n",
        "# dup_img = cv2.cvtColor(dup_img, cv2.COLOR_BGR2HSV)\n",
        "# dup_img = cv2.resize(dup_img, (im_size, im_size))\n",
        "# dup_img[:, :, 2] = pred\n",
        "# dup_img = cv2.cvtColor(dup_img, cv2.COLOR_HSV2BGR)\n",
        "cv2.imwrite('/content/predicted_image.jpeg', pred)"
      ]
    },
    {
      "cell_type": "code",
      "execution_count": null,
      "metadata": {
        "colab": {
          "base_uri": "https://localhost:8080/"
        },
        "id": "BKbWU-72QrgS",
        "outputId": "113edc75-7a26-4345-98e6-eba9ebbbf2dc"
      },
      "outputs": [
        {
          "output_type": "execute_result",
          "data": {
            "text/plain": [
              "True"
            ]
          },
          "metadata": {},
          "execution_count": 90
        }
      ],
      "source": [
        "dark_img = cv2.resize(test_image_1, (im_size, im_size))\n",
        "cv2.imwrite('/content/dark_img.jpeg', dark_img)\n",
        "light_img = cv2.resize(original_image_1, (im_size, im_size))\n",
        "cv2.imwrite('/content/light_img.jpeg', light_img)"
      ]
    },
    {
      "cell_type": "markdown",
      "source": [
        "##Making a Comparison of Metrics like PSNR, SSIM, MSE and MAE for the Different Techniques Implemented"
      ],
      "metadata": {
        "id": "Y6PwiHuk4lyg"
      }
    },
    {
      "cell_type": "code",
      "source": [
        "import tensorflow as tf\n",
        "import cv2\n",
        "im_size = 512\n",
        "pred_img = cv2.imread('/content/predicted_image_210_140.jpeg').astype('float')\n",
        "orig_im = cv2.imread('/content/orig_image_210.jpeg').astype('float')\n",
        "pred_img = cv2.resize(pred_img, (im_size, im_size))\n",
        "orig_im = cv2.resize(orig_im, (im_size, im_size))\n",
        "print(\"MSE = \", tf.math.sqrt(tf.math.reduce_mean(tf.keras.metrics.mean_squared_error(orig_im, pred_img))).numpy())\n",
        "print(\"MAE = \", tf.math.sqrt(tf.math.reduce_mean(tf.keras.metrics.mean_absolute_error(orig_im, pred_img))).numpy())\n",
        "print(\"PSNR = \", PSNR(orig_im, pred_img).numpy())\n",
        "print(\"SSIM = \", SSIM(orig_im, pred_img).numpy())"
      ],
      "metadata": {
        "colab": {
          "base_uri": "https://localhost:8080/"
        },
        "id": "PjWxuLG0tlZd",
        "outputId": "68f07c2f-1d45-414c-987c-188d171b6f80"
      },
      "execution_count": 7,
      "outputs": [
        {
          "output_type": "stream",
          "name": "stdout",
          "text": [
            "MSE =  10.030948622504953\n",
            "MAE =  2.692806947969572\n",
            "PSNR =  28.103963488573353\n",
            "SSIM =  0.55256015\n"
          ]
        }
      ]
    }
  ],
  "metadata": {
    "kernelspec": {
      "display_name": "Python 3",
      "language": "python",
      "name": "python3"
    },
    "language_info": {
      "codemirror_mode": {
        "name": "ipython",
        "version": 3
      },
      "file_extension": ".py",
      "mimetype": "text/x-python",
      "name": "python",
      "nbconvert_exporter": "python",
      "pygments_lexer": "ipython3",
      "version": "3.6.4"
    },
    "colab": {
      "provenance": []
    }
  },
  "nbformat": 4,
  "nbformat_minor": 0
}